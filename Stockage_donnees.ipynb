{
 "cells": [
  {
   "cell_type": "markdown",
   "metadata": {},
   "source": [
    "# Stockage de données non institutionnel\n",
    "\n",
    "Estimation du bilan carbone du stockage sur des drive/dropbox/etc par le personnel de l'UMR (hors stockage institutionnel type Ob7).\n",
    "\n",
    "Beaucoup d'incertitude vient des points suivants:\n",
    "\n",
    "- on a mal fait notre question, dans la réponse au questionnaire on a l'info de la quantité de stockage mais pas différenciée par type. En particulier, on ne sait pas si c'est du stockage sur drive/dropbox ou sur nas\n",
    "\n",
    "- on a du mal à trouver un équivalent quantité de données stockées - consommation électrique (avec une source fiable). Pour le moment on n'a que ça: https://medium.com/stanford-magazine/carbon-and-the-cloud-d6f481b79dfe\n",
    "\n",
    "- pour passer de la consommation électrique à un équivalent carbone, idéalement il faut savoir dans quel pays la donnée est stockée exactement (le ratio américain kgeqCO2/kWh est 6 fois supérieur au français par exemple)"
   ]
  },
  {
   "cell_type": "code",
   "execution_count": 2,
   "metadata": {},
   "outputs": [
    {
     "data": {
      "text/html": [
       "<div>\n",
       "<style scoped>\n",
       "    .dataframe tbody tr th:only-of-type {\n",
       "        vertical-align: middle;\n",
       "    }\n",
       "\n",
       "    .dataframe tbody tr th {\n",
       "        vertical-align: top;\n",
       "    }\n",
       "\n",
       "    .dataframe thead th {\n",
       "        text-align: right;\n",
       "    }\n",
       "</style>\n",
       "<table border=\"1\" class=\"dataframe\">\n",
       "  <thead>\n",
       "    <tr style=\"text-align: right;\">\n",
       "      <th></th>\n",
       "      <th>Stockage</th>\n",
       "      <th>Type</th>\n",
       "      <th>Quantite_Tb</th>\n",
       "    </tr>\n",
       "  </thead>\n",
       "  <tbody>\n",
       "    <tr>\n",
       "      <th>0</th>\n",
       "      <td>oui</td>\n",
       "      <td>Dropbox, Uncloud</td>\n",
       "      <td>1.0</td>\n",
       "    </tr>\n",
       "    <tr>\n",
       "      <th>1</th>\n",
       "      <td>oui</td>\n",
       "      <td>Dropbox, UNcloud</td>\n",
       "      <td>2.0</td>\n",
       "    </tr>\n",
       "    <tr>\n",
       "      <th>2</th>\n",
       "      <td>oui</td>\n",
       "      <td>Dropbox</td>\n",
       "      <td>0.5</td>\n",
       "    </tr>\n",
       "    <tr>\n",
       "      <th>3</th>\n",
       "      <td>non</td>\n",
       "      <td>NaN</td>\n",
       "      <td>NaN</td>\n",
       "    </tr>\n",
       "    <tr>\n",
       "      <th>4</th>\n",
       "      <td>oui</td>\n",
       "      <td>iCloud</td>\n",
       "      <td>10.0</td>\n",
       "    </tr>\n",
       "    <tr>\n",
       "      <th>...</th>\n",
       "      <td>...</td>\n",
       "      <td>...</td>\n",
       "      <td>...</td>\n",
       "    </tr>\n",
       "    <tr>\n",
       "      <th>96</th>\n",
       "      <td>non</td>\n",
       "      <td>NaN</td>\n",
       "      <td>NaN</td>\n",
       "    </tr>\n",
       "    <tr>\n",
       "      <th>97</th>\n",
       "      <td>non</td>\n",
       "      <td>NaN</td>\n",
       "      <td>NaN</td>\n",
       "    </tr>\n",
       "    <tr>\n",
       "      <th>98</th>\n",
       "      <td>non</td>\n",
       "      <td>NaN</td>\n",
       "      <td>NaN</td>\n",
       "    </tr>\n",
       "    <tr>\n",
       "      <th>99</th>\n",
       "      <td>oui</td>\n",
       "      <td>Google Drive</td>\n",
       "      <td>0.1</td>\n",
       "    </tr>\n",
       "    <tr>\n",
       "      <th>100</th>\n",
       "      <td>oui</td>\n",
       "      <td>Dropbox, Google drive</td>\n",
       "      <td>1.0</td>\n",
       "    </tr>\n",
       "  </tbody>\n",
       "</table>\n",
       "<p>101 rows × 3 columns</p>\n",
       "</div>"
      ],
      "text/plain": [
       "    Stockage                   Type  Quantite_Tb\n",
       "0        oui       Dropbox, Uncloud          1.0\n",
       "1        oui       Dropbox, UNcloud          2.0\n",
       "2        oui                Dropbox          0.5\n",
       "3        non                    NaN          NaN\n",
       "4        oui                 iCloud         10.0\n",
       "..       ...                    ...          ...\n",
       "96       non                    NaN          NaN\n",
       "97       non                    NaN          NaN\n",
       "98       non                    NaN          NaN\n",
       "99       oui           Google Drive          0.1\n",
       "100      oui  Dropbox, Google drive          1.0\n",
       "\n",
       "[101 rows x 3 columns]"
      ]
     },
     "execution_count": 2,
     "metadata": {},
     "output_type": "execute_result"
    }
   ],
   "source": [
    "import pandas as pd\n",
    "import numpy as np\n",
    "#import math\n",
    "#from datetime import timedelta\n",
    "\n",
    "stock_df = pd.read_csv(\"data-donnees-internet/stockage-donnees.csv\", sep=';')\n",
    "\n",
    "stock_df"
   ]
  },
  {
   "cell_type": "code",
   "execution_count": 3,
   "metadata": {},
   "outputs": [
    {
     "name": "stdout",
     "output_type": "stream",
     "text": [
      "Pourcentage des personnes avec un Drive/Dropbox/etc.: 59.40594059405941\n"
     ]
    }
   ],
   "source": [
    "stock_df = stock_df.replace({\"oui\":1,\"non\":0})\n",
    "prct = 100 * stock_df['Stockage'].sum() / stock_df.shape[0]\n",
    "print('Pourcentage des personnes avec un Drive/Dropbox/etc.:', prct)"
   ]
  },
  {
   "cell_type": "code",
   "execution_count": 4,
   "metadata": {},
   "outputs": [],
   "source": [
    "boolean1 = stock_df.loc[:,\"Type\"] != \"NAS\"\n",
    "boolean2 = stock_df.loc[:,\"Stockage\"] == 1\n",
    "stock_df_1 = stock_df[boolean1 & boolean2]\n",
    "\n",
    "#stock_df_2 = stock_df[(boolean1 == False) | (boolean2 == False)]\n",
    "#stock_df_2.shape[0]"
   ]
  },
  {
   "cell_type": "code",
   "execution_count": 5,
   "metadata": {},
   "outputs": [
    {
     "name": "stdout",
     "output_type": "stream",
     "text": [
      "Quantite moyenne de donnees stockees (hors NAS): 0.8838910891089109 Tb\n"
     ]
    }
   ],
   "source": [
    "moy_par_personne = (stock_df_1['Quantite_Tb'].sum(skipna = True))/(stock_df.shape[0])\n",
    "print('Quantite moyenne de donnees stockees (hors NAS):', moy_par_personne, \"Tb\")"
   ]
  },
  {
   "cell_type": "code",
   "execution_count": 6,
   "metadata": {},
   "outputs": [
    {
     "name": "stdout",
     "output_type": "stream",
     "text": [
      "Quantite totale de donnees stockees (hors NAS, pour les personnes qui ont repondu): 89.273 Tb\n"
     ]
    }
   ],
   "source": [
    "print('Quantite totale de donnees stockees (hors NAS, pour les personnes qui ont repondu):', stock_df_1['Quantite_Tb'].sum(skipna = True), \"Tb\")"
   ]
  },
  {
   "cell_type": "code",
   "execution_count": 7,
   "metadata": {},
   "outputs": [
    {
     "data": {
      "text/plain": [
       "234.2311386138614"
      ]
     },
     "execution_count": 7,
     "metadata": {},
     "output_type": "execute_result"
    }
   ],
   "source": [
    "effectif = 265\n",
    "total_umr = moy_par_personne * effectif\n",
    "total_umr"
   ]
  },
  {
   "cell_type": "code",
   "execution_count": 8,
   "metadata": {},
   "outputs": [
    {
     "name": "stdout",
     "output_type": "stream",
     "text": [
      "Consommation totale de l'UMR liee au stockage de donnees: 1182867.25 kWh\n"
     ]
    }
   ],
   "source": [
    "eq_Gb_kWh = (7 + 3.1)/2 #kWh necessaire au stockage d'un Gb pendant un an \n",
    "eq_Tb_kWh = eq_Gb_kWh * 10**3\n",
    "\n",
    "conso_stockage_umr = total_umr * eq_Tb_kWh\n",
    "print(\"Consommation totale de l'UMR liee au stockage de donnees:\", conso_stockage_umr, \"kWh\")"
   ]
  },
  {
   "cell_type": "markdown",
   "metadata": {},
   "source": [
    "## Passage kWh - carbone\n",
    "\n",
    "Ratios (source = https://theshiftproject.org/en/carbonalyser-browser-extension/):\n",
    "\n",
    "- European Union : 0,276 kgCO2e/kWh\n",
    "\n",
    "- France : 0,035 kgCO2e/kWh\n",
    "\n",
    "- United States : 0,493 kgCO2e/kWh\n",
    "\n",
    "- China : 0,681 kgCO2e/kWh\n",
    "\n",
    "- Other (average world carbon intensity factor) : 0,519 kgCO2e/kWh"
   ]
  },
  {
   "cell_type": "code",
   "execution_count": 9,
   "metadata": {},
   "outputs": [
    {
     "name": "stdout",
     "output_type": "stream",
     "text": [
      "eqCO2 total (ratio francais): 132.481132 t eqCO2\n"
     ]
    }
   ],
   "source": [
    "ratio_fr = 0.112 # LOCEAN\n",
    "ratio_us = 0.493\n",
    "ratio_monde = 0.519\n",
    "\n",
    "C_tot_fr = conso_stockage_umr * ratio_fr / 10**3\n",
    "C_tot_us = conso_stockage_umr * ratio_us / 10**3\n",
    "C_tot_monde = conso_stockage_umr * ratio_monde / 10**3\n",
    "\n",
    "print(\"eqCO2 total (ratio francais):\",C_tot_fr,\"t eqCO2\")"
   ]
  },
  {
   "cell_type": "code",
   "execution_count": 10,
   "metadata": {},
   "outputs": [
    {
     "name": "stdout",
     "output_type": "stream",
     "text": [
      "eqCO2 total (ratio US): 583.1535542500001 t eqCO2\n"
     ]
    }
   ],
   "source": [
    "print(\"eqCO2 total (ratio US):\",C_tot_us,\"t eqCO2\")"
   ]
  },
  {
   "cell_type": "code",
   "execution_count": 11,
   "metadata": {},
   "outputs": [
    {
     "name": "stdout",
     "output_type": "stream",
     "text": [
      "eqCO2 total (ratio monde): 613.90810275 t eqCO2\n"
     ]
    }
   ],
   "source": [
    "print(\"eqCO2 total (ratio monde):\",C_tot_monde,\"t eqCO2\")"
   ]
  },
  {
   "cell_type": "code",
   "execution_count": null,
   "metadata": {},
   "outputs": [],
   "source": []
  }
 ],
 "metadata": {
  "kernelspec": {
   "display_name": "Python 3",
   "language": "python",
   "name": "python3"
  },
  "language_info": {
   "codemirror_mode": {
    "name": "ipython",
    "version": 3
   },
   "file_extension": ".py",
   "mimetype": "text/x-python",
   "name": "python",
   "nbconvert_exporter": "python",
   "pygments_lexer": "ipython3",
   "version": "3.8.5"
  }
 },
 "nbformat": 4,
 "nbformat_minor": 4
}
