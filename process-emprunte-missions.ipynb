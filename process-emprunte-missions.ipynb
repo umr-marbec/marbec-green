{
 "cells": [
  {
   "cell_type": "code",
   "execution_count": 215,
   "id": "25f3ba0c",
   "metadata": {},
   "outputs": [
    {
     "data": {
      "text/html": [
       "<div>\n",
       "<style scoped>\n",
       "    .dataframe tbody tr th:only-of-type {\n",
       "        vertical-align: middle;\n",
       "    }\n",
       "\n",
       "    .dataframe tbody tr th {\n",
       "        vertical-align: top;\n",
       "    }\n",
       "\n",
       "    .dataframe thead th {\n",
       "        text-align: right;\n",
       "    }\n",
       "</style>\n",
       "<table border=\"1\" class=\"dataframe\">\n",
       "  <thead>\n",
       "    <tr style=\"text-align: right;\">\n",
       "      <th></th>\n",
       "      <th>ID</th>\n",
       "      <th>Type</th>\n",
       "      <th>Mode de deplacement</th>\n",
       "      <th>N</th>\n",
       "      <th>Statut</th>\n",
       "      <th>Nombre de personne</th>\n",
       "      <th>Motif</th>\n",
       "      <th>Aller / Retour</th>\n",
       "      <th>dist</th>\n",
       "      <th>Emission (kg eCO2)</th>\n",
       "      <th>Incertitude (kg eCO2)</th>\n",
       "    </tr>\n",
       "  </thead>\n",
       "  <tbody>\n",
       "    <tr>\n",
       "      <th>0</th>\n",
       "      <td>1,2,99,515,868,1015,1370,1639</td>\n",
       "      <td>MX</td>\n",
       "      <td>plane</td>\n",
       "      <td>8</td>\n",
       "      <td>NaN</td>\n",
       "      <td>1</td>\n",
       "      <td>NaN</td>\n",
       "      <td>OUI</td>\n",
       "      <td>79500</td>\n",
       "      <td>6591</td>\n",
       "      <td>659</td>\n",
       "    </tr>\n",
       "    <tr>\n",
       "      <th>1</th>\n",
       "      <td>1,91,280,838,871,873,962,968,988,1190,1239,135...</td>\n",
       "      <td>NaN</td>\n",
       "      <td>train</td>\n",
       "      <td>15</td>\n",
       "      <td>NaN</td>\n",
       "      <td>1</td>\n",
       "      <td>NaN</td>\n",
       "      <td>OUI</td>\n",
       "      <td>21405</td>\n",
       "      <td>64</td>\n",
       "      <td>13</td>\n",
       "    </tr>\n",
       "    <tr>\n",
       "      <th>2</th>\n",
       "      <td>2</td>\n",
       "      <td>MX</td>\n",
       "      <td>plane</td>\n",
       "      <td>1</td>\n",
       "      <td>NaN</td>\n",
       "      <td>1</td>\n",
       "      <td>NaN</td>\n",
       "      <td>OUI</td>\n",
       "      <td>9511</td>\n",
       "      <td>788</td>\n",
       "      <td>79</td>\n",
       "    </tr>\n",
       "    <tr>\n",
       "      <th>3</th>\n",
       "      <td>2</td>\n",
       "      <td>NaN</td>\n",
       "      <td>plane</td>\n",
       "      <td>1</td>\n",
       "      <td>NaN</td>\n",
       "      <td>1</td>\n",
       "      <td>NaN</td>\n",
       "      <td>OUI</td>\n",
       "      <td>875</td>\n",
       "      <td>124</td>\n",
       "      <td>12</td>\n",
       "    </tr>\n",
       "    <tr>\n",
       "      <th>4</th>\n",
       "      <td>3</td>\n",
       "      <td>NaN</td>\n",
       "      <td>plane</td>\n",
       "      <td>1</td>\n",
       "      <td>NaN</td>\n",
       "      <td>1</td>\n",
       "      <td>NaN</td>\n",
       "      <td>OUI</td>\n",
       "      <td>1691</td>\n",
       "      <td>239</td>\n",
       "      <td>24</td>\n",
       "    </tr>\n",
       "    <tr>\n",
       "      <th>...</th>\n",
       "      <td>...</td>\n",
       "      <td>...</td>\n",
       "      <td>...</td>\n",
       "      <td>...</td>\n",
       "      <td>...</td>\n",
       "      <td>...</td>\n",
       "      <td>...</td>\n",
       "      <td>...</td>\n",
       "      <td>...</td>\n",
       "      <td>...</td>\n",
       "      <td>...</td>\n",
       "    </tr>\n",
       "    <tr>\n",
       "      <th>603</th>\n",
       "      <td>230</td>\n",
       "      <td>MX</td>\n",
       "      <td>plane</td>\n",
       "      <td>1</td>\n",
       "      <td>NaN</td>\n",
       "      <td>1</td>\n",
       "      <td>NaN</td>\n",
       "      <td>OUI</td>\n",
       "      <td>2169</td>\n",
       "      <td>222</td>\n",
       "      <td>22</td>\n",
       "    </tr>\n",
       "    <tr>\n",
       "      <th>604</th>\n",
       "      <td>231</td>\n",
       "      <td>NaN</td>\n",
       "      <td>car</td>\n",
       "      <td>1</td>\n",
       "      <td>NaN</td>\n",
       "      <td>1</td>\n",
       "      <td>NaN</td>\n",
       "      <td>OUI</td>\n",
       "      <td>291</td>\n",
       "      <td>68</td>\n",
       "      <td>41</td>\n",
       "    </tr>\n",
       "    <tr>\n",
       "      <th>605</th>\n",
       "      <td>232</td>\n",
       "      <td>NaN</td>\n",
       "      <td>car</td>\n",
       "      <td>1</td>\n",
       "      <td>NaN</td>\n",
       "      <td>1</td>\n",
       "      <td>NaN</td>\n",
       "      <td>OUI</td>\n",
       "      <td>291</td>\n",
       "      <td>68</td>\n",
       "      <td>41</td>\n",
       "    </tr>\n",
       "    <tr>\n",
       "      <th>606</th>\n",
       "      <td>233</td>\n",
       "      <td>NaN</td>\n",
       "      <td>train</td>\n",
       "      <td>1</td>\n",
       "      <td>NaN</td>\n",
       "      <td>1</td>\n",
       "      <td>NaN</td>\n",
       "      <td>OUI</td>\n",
       "      <td>2008</td>\n",
       "      <td>6</td>\n",
       "      <td>1</td>\n",
       "    </tr>\n",
       "    <tr>\n",
       "      <th>607</th>\n",
       "      <td>235</td>\n",
       "      <td>NaN</td>\n",
       "      <td>train</td>\n",
       "      <td>1</td>\n",
       "      <td>NaN</td>\n",
       "      <td>1</td>\n",
       "      <td>NaN</td>\n",
       "      <td>OUI</td>\n",
       "      <td>599</td>\n",
       "      <td>2</td>\n",
       "      <td>0</td>\n",
       "    </tr>\n",
       "  </tbody>\n",
       "</table>\n",
       "<p>608 rows × 11 columns</p>\n",
       "</div>"
      ],
      "text/plain": [
       "                                                    ID Type  \\\n",
       "0                        1,2,99,515,868,1015,1370,1639   MX   \n",
       "1    1,91,280,838,871,873,962,968,988,1190,1239,135...  NaN   \n",
       "2                                                    2   MX   \n",
       "3                                                    2  NaN   \n",
       "4                                                    3  NaN   \n",
       "..                                                 ...  ...   \n",
       "603                                                230   MX   \n",
       "604                                                231  NaN   \n",
       "605                                                232  NaN   \n",
       "606                                                233  NaN   \n",
       "607                                                235  NaN   \n",
       "\n",
       "    Mode de deplacement   N  Statut  Nombre de personne  Motif Aller / Retour  \\\n",
       "0                 plane   8     NaN                   1    NaN            OUI   \n",
       "1                 train  15     NaN                   1    NaN            OUI   \n",
       "2                 plane   1     NaN                   1    NaN            OUI   \n",
       "3                 plane   1     NaN                   1    NaN            OUI   \n",
       "4                 plane   1     NaN                   1    NaN            OUI   \n",
       "..                  ...  ..     ...                 ...    ...            ...   \n",
       "603               plane   1     NaN                   1    NaN            OUI   \n",
       "604                 car   1     NaN                   1    NaN            OUI   \n",
       "605                 car   1     NaN                   1    NaN            OUI   \n",
       "606               train   1     NaN                   1    NaN            OUI   \n",
       "607               train   1     NaN                   1    NaN            OUI   \n",
       "\n",
       "      dist  Emission (kg eCO2)  Incertitude (kg eCO2)  \n",
       "0    79500                6591                    659  \n",
       "1    21405                  64                     13  \n",
       "2     9511                 788                     79  \n",
       "3      875                 124                     12  \n",
       "4     1691                 239                     24  \n",
       "..     ...                 ...                    ...  \n",
       "603   2169                 222                     22  \n",
       "604    291                  68                     41  \n",
       "605    291                  68                     41  \n",
       "606   2008                   6                      1  \n",
       "607    599                   2                      0  \n",
       "\n",
       "[608 rows x 11 columns]"
      ]
     },
     "execution_count": 215,
     "metadata": {},
     "output_type": "execute_result"
    }
   ],
   "source": [
    "import pandas as pd\n",
    "import matplotlib.pyplot as plt\n",
    "import numpy as np\n",
    "\n",
    "data = pd.read_csv('empreinteCarboneMissions_2022121.tsv', sep='\\t')\n",
    "data = data.rename(columns={'Quantité' : 'N', 'Distance (km)': 'dist'})\n",
    "data"
   ]
  },
  {
   "cell_type": "code",
   "execution_count": 216,
   "id": "202402be",
   "metadata": {},
   "outputs": [
    {
     "data": {
      "text/html": [
       "<div>\n",
       "<style scoped>\n",
       "    .dataframe tbody tr th:only-of-type {\n",
       "        vertical-align: middle;\n",
       "    }\n",
       "\n",
       "    .dataframe tbody tr th {\n",
       "        vertical-align: top;\n",
       "    }\n",
       "\n",
       "    .dataframe thead th {\n",
       "        text-align: right;\n",
       "    }\n",
       "</style>\n",
       "<table border=\"1\" class=\"dataframe\">\n",
       "  <thead>\n",
       "    <tr style=\"text-align: right;\">\n",
       "      <th></th>\n",
       "      <th>N</th>\n",
       "      <th>dist</th>\n",
       "    </tr>\n",
       "  </thead>\n",
       "  <tbody>\n",
       "    <tr>\n",
       "      <th>273</th>\n",
       "      <td>1</td>\n",
       "      <td>9</td>\n",
       "    </tr>\n",
       "    <tr>\n",
       "      <th>325</th>\n",
       "      <td>1</td>\n",
       "      <td>12</td>\n",
       "    </tr>\n",
       "    <tr>\n",
       "      <th>492</th>\n",
       "      <td>1</td>\n",
       "      <td>28</td>\n",
       "    </tr>\n",
       "    <tr>\n",
       "      <th>544</th>\n",
       "      <td>1</td>\n",
       "      <td>28</td>\n",
       "    </tr>\n",
       "    <tr>\n",
       "      <th>351</th>\n",
       "      <td>1</td>\n",
       "      <td>33</td>\n",
       "    </tr>\n",
       "    <tr>\n",
       "      <th>...</th>\n",
       "      <td>...</td>\n",
       "      <td>...</td>\n",
       "    </tr>\n",
       "    <tr>\n",
       "      <th>147</th>\n",
       "      <td>7</td>\n",
       "      <td>163529</td>\n",
       "    </tr>\n",
       "    <tr>\n",
       "      <th>168</th>\n",
       "      <td>9</td>\n",
       "      <td>169850</td>\n",
       "    </tr>\n",
       "    <tr>\n",
       "      <th>74</th>\n",
       "      <td>19</td>\n",
       "      <td>359462</td>\n",
       "    </tr>\n",
       "    <tr>\n",
       "      <th>19</th>\n",
       "      <td>25</td>\n",
       "      <td>369408</td>\n",
       "    </tr>\n",
       "    <tr>\n",
       "      <th>11</th>\n",
       "      <td>269</td>\n",
       "      <td>371003</td>\n",
       "    </tr>\n",
       "  </tbody>\n",
       "</table>\n",
       "<p>606 rows × 2 columns</p>\n",
       "</div>"
      ],
      "text/plain": [
       "       N    dist\n",
       "273    1       9\n",
       "325    1      12\n",
       "492    1      28\n",
       "544    1      28\n",
       "351    1      33\n",
       "..   ...     ...\n",
       "147    7  163529\n",
       "168    9  169850\n",
       "74    19  359462\n",
       "19    25  369408\n",
       "11   269  371003\n",
       "\n",
       "[606 rows x 2 columns]"
      ]
     },
     "execution_count": 216,
     "metadata": {},
     "output_type": "execute_result"
    }
   ],
   "source": [
    "subdata = data.loc[:, ['N', 'dist']]\n",
    "subdata = subdata.loc[subdata['dist'] > 0, :]\n",
    "subdata = subdata.sort_values(by='dist')\n",
    "dist = subdata['dist'].values.copy()\n",
    "N = subdata['N'].values.copy()\n",
    "subdata"
   ]
  },
  {
   "cell_type": "code",
   "execution_count": 217,
   "id": "f8cd9ebc",
   "metadata": {},
   "outputs": [
    {
     "data": {
      "text/plain": [
       "9.0"
      ]
     },
     "execution_count": 217,
     "metadata": {},
     "output_type": "execute_result"
    }
   ],
   "source": [
    "dmin = float(dist.min())\n",
    "dmin"
   ]
  },
  {
   "cell_type": "code",
   "execution_count": 218,
   "id": "8776d1d9",
   "metadata": {},
   "outputs": [
    {
     "data": {
      "text/plain": [
       "371003.0"
      ]
     },
     "execution_count": 218,
     "metadata": {},
     "output_type": "execute_result"
    }
   ],
   "source": [
    "dmax = float(dist.max())\n",
    "dmax"
   ]
  },
  {
   "cell_type": "code",
   "execution_count": 219,
   "id": "6bc37b9c",
   "metadata": {},
   "outputs": [
    {
     "data": {
      "text/plain": [
       "380000"
      ]
     },
     "execution_count": 219,
     "metadata": {},
     "output_type": "execute_result"
    }
   ],
   "source": [
    "dmax = 380000\n",
    "dmax"
   ]
  },
  {
   "cell_type": "code",
   "execution_count": 220,
   "id": "62574896",
   "metadata": {},
   "outputs": [
    {
     "data": {
      "text/plain": [
       "array([     0,   2000,   4000,   6000,   8000,  10000,  12000,  14000,\n",
       "        16000,  18000,  20000,  22000,  24000,  26000,  28000,  30000,\n",
       "        32000,  34000,  36000,  38000,  40000,  42000,  44000,  46000,\n",
       "        48000,  50000,  52000,  54000,  56000,  58000,  60000,  62000,\n",
       "        64000,  66000,  68000,  70000,  72000,  74000,  76000,  78000,\n",
       "        80000,  82000,  84000,  86000,  88000,  90000,  92000,  94000,\n",
       "        96000,  98000, 100000, 102000, 104000, 106000, 108000, 110000,\n",
       "       112000, 114000, 116000, 118000, 120000, 122000, 124000, 126000,\n",
       "       128000, 130000, 132000, 134000, 136000, 138000, 140000, 142000,\n",
       "       144000, 146000, 148000, 150000, 152000, 154000, 156000, 158000,\n",
       "       160000, 162000, 164000, 166000, 168000, 170000, 172000, 174000,\n",
       "       176000, 178000, 180000, 182000, 184000, 186000, 188000, 190000,\n",
       "       192000, 194000, 196000, 198000, 200000, 202000, 204000, 206000,\n",
       "       208000, 210000, 212000, 214000, 216000, 218000, 220000, 222000,\n",
       "       224000, 226000, 228000, 230000, 232000, 234000, 236000, 238000,\n",
       "       240000, 242000, 244000, 246000, 248000, 250000, 252000, 254000,\n",
       "       256000, 258000, 260000, 262000, 264000, 266000, 268000, 270000,\n",
       "       272000, 274000, 276000, 278000, 280000, 282000, 284000, 286000,\n",
       "       288000, 290000, 292000, 294000, 296000, 298000, 300000, 302000,\n",
       "       304000, 306000, 308000, 310000, 312000, 314000, 316000, 318000,\n",
       "       320000, 322000, 324000, 326000, 328000, 330000, 332000, 334000,\n",
       "       336000, 338000, 340000, 342000, 344000, 346000, 348000, 350000,\n",
       "       352000, 354000, 356000, 358000, 360000, 362000, 364000, 366000,\n",
       "       368000, 370000, 372000, 374000, 376000, 378000, 380000])"
      ]
     },
     "execution_count": 220,
     "metadata": {},
     "output_type": "execute_result"
    }
   ],
   "source": [
    "step = 2000\n",
    "bins = np.arange(0, dmax + step, step)\n",
    "nbins = len(bins)\n",
    "bins"
   ]
  },
  {
   "cell_type": "code",
   "execution_count": 221,
   "id": "231ecfce",
   "metadata": {},
   "outputs": [],
   "source": [
    "dl = np.diff(bins)[0]"
   ]
  },
  {
   "cell_type": "code",
   "execution_count": 222,
   "id": "059f579b",
   "metadata": {},
   "outputs": [],
   "source": [
    "index = np.digitize(dist, bins, right=True)"
   ]
  },
  {
   "cell_type": "code",
   "execution_count": 223,
   "id": "27e85bce",
   "metadata": {},
   "outputs": [],
   "source": [
    "outputs = np.zeros((len(bins) - 1), dtype=float)\n",
    "for i in np.unique(index):\n",
    "    iok = np.nonzero(index == i)[0]\n",
    "    outputs[i - 1] = N[iok].sum()"
   ]
  },
  {
   "cell_type": "code",
   "execution_count": 224,
   "id": "f0afa35c",
   "metadata": {},
   "outputs": [
    {
     "data": {
      "image/png": "[encoded data removed]",
      "text/plain": [
       "<Figure size 1152x576 with 1 Axes>"
      ]
     },
     "metadata": {
      "needs_background": "light"
     },
     "output_type": "display_data"
    }
   ],
   "source": [
    "plt.rcParams['font.size'] = 16\n",
    "plt.figure(figsize=(16, 8))\n",
    "plt.bar(bins[slice(0, nbins - 1)], outputs, width=dl, align='edge')\n",
    "plt.xlabel('Distance (km)')\n",
    "plt.ylabel('Nombre de missions')\n",
    "plt.xlim(0, dmax)\n",
    "plt.savefig('number_missions.png', bbox_inches='tight')"
   ]
  },
  {
   "cell_type": "code",
   "execution_count": null,
   "id": "a9d197ab",
   "metadata": {},
   "outputs": [],
   "source": []
  }
 ],
 "metadata": {
  "kernelspec": {
   "display_name": "Python 3 (ipykernel)",
   "language": "python",
   "name": "python3"
  },
  "language_info": {
   "codemirror_mode": {
    "name": "ipython",
    "version": 3
   },
   "file_extension": ".py",
   "mimetype": "text/x-python",
   "name": "python",
   "nbconvert_exporter": "python",
   "pygments_lexer": "ipython3",
   "version": "3.8.10"
  }
 },
 "nbformat": 4,
 "nbformat_minor": 5
}
