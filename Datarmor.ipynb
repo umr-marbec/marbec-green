{
 "cells": [
  {
   "cell_type": "markdown",
   "id": "672c22a4",
   "metadata": {},
   "source": [
    "# Bilan Carbone Datarmor\n",
    "\n",
    "## Recuperations heures CPU\n",
    "\n",
    "Denis a envoye un mail contenant les heures CPU pour les utilisateur affilies a Marbec (groupes unix `emeX`, `marbecmd`). Ce mail a ete traite pour mettre les donnees au format CSV. \n",
    "\n",
    "Ensuite, le temps CPU mensuel par utilisateur a ete trace:"
   ]
  },
  {
   "cell_type": "code",
   "execution_count": 1,
   "id": "69f0ed0a",
   "metadata": {
    "tags": [
     "hide-input"
    ]
   },
   "outputs": [
    {
     "data": {
      "text/html": [
       "<div>\n",
       "<style scoped>\n",
       "    .dataframe tbody tr th:only-of-type {\n",
       "        vertical-align: middle;\n",
       "    }\n",
       "\n",
       "    .dataframe tbody tr th {\n",
       "        vertical-align: top;\n",
       "    }\n",
       "\n",
       "    .dataframe thead th {\n",
       "        text-align: right;\n",
       "    }\n",
       "</style>\n",
       "<table border=\"1\" class=\"dataframe\">\n",
       "  <thead>\n",
       "    <tr style=\"text-align: right;\">\n",
       "      <th></th>\n",
       "      <th>user</th>\n",
       "      <th>cpu</th>\n",
       "    </tr>\n",
       "  </thead>\n",
       "  <tbody>\n",
       "    <tr>\n",
       "      <th>0</th>\n",
       "      <td>adupaix</td>\n",
       "      <td>478250353</td>\n",
       "    </tr>\n",
       "    <tr>\n",
       "      <th>1</th>\n",
       "      <td>adupaix</td>\n",
       "      <td>324315878</td>\n",
       "    </tr>\n",
       "    <tr>\n",
       "      <th>2</th>\n",
       "      <td>adupaix</td>\n",
       "      <td>587545</td>\n",
       "    </tr>\n",
       "    <tr>\n",
       "      <th>3</th>\n",
       "      <td>adupaix</td>\n",
       "      <td>59257847</td>\n",
       "    </tr>\n",
       "    <tr>\n",
       "      <th>4</th>\n",
       "      <td>adupaix</td>\n",
       "      <td>1814555</td>\n",
       "    </tr>\n",
       "    <tr>\n",
       "      <th>...</th>\n",
       "      <td>...</td>\n",
       "      <td>...</td>\n",
       "    </tr>\n",
       "    <tr>\n",
       "      <th>187</th>\n",
       "      <td>qschull</td>\n",
       "      <td>626030</td>\n",
       "    </tr>\n",
       "    <tr>\n",
       "      <th>188</th>\n",
       "      <td>qschull</td>\n",
       "      <td>315538</td>\n",
       "    </tr>\n",
       "    <tr>\n",
       "      <th>189</th>\n",
       "      <td>crestrep</td>\n",
       "      <td>0</td>\n",
       "    </tr>\n",
       "    <tr>\n",
       "      <th>190</th>\n",
       "      <td>crestrep</td>\n",
       "      <td>7</td>\n",
       "    </tr>\n",
       "    <tr>\n",
       "      <th>191</th>\n",
       "      <td>crestrep</td>\n",
       "      <td>46</td>\n",
       "    </tr>\n",
       "  </tbody>\n",
       "</table>\n",
       "<p>192 rows × 2 columns</p>\n",
       "</div>"
      ],
      "text/plain": [
       "          user        cpu\n",
       "0     adupaix   478250353\n",
       "1     adupaix   324315878\n",
       "2     adupaix      587545\n",
       "3     adupaix    59257847\n",
       "4     adupaix     1814555\n",
       "..         ...        ...\n",
       "187   qschull      626030\n",
       "188   qschull      315538\n",
       "189  crestrep           0\n",
       "190  crestrep           7\n",
       "191  crestrep          46\n",
       "\n",
       "[192 rows x 2 columns]"
      ]
     },
     "execution_count": 1,
     "metadata": {},
     "output_type": "execute_result"
    }
   ],
   "source": [
    "import numpy as np\n",
    "import pandas as pd\n",
    "import re\n",
    "import matplotlib.pyplot as plt\n",
    "\n",
    "with open('data-datarmor/mail-mickael-2023.txt') as fin:\n",
    "    lines = fin.readlines()\n",
    "lines\n",
    "\n",
    "regex = re.compile('([0-9]{4}) *: *([a-z]+) *: *([0-9]+)')\n",
    "regex = re.compile('([0-9]{4})')\n",
    "output = []\n",
    "for l in lines:\n",
    "    l = l.strip()\n",
    "    if regex.match(l):\n",
    "        temp = l.split(':')\n",
    "        output.append(temp)\n",
    "\n",
    "output = np.array(output)\n",
    "dsout = pd.DataFrame(output[:, 1:])\n",
    "dsout.columns = ['user', 'cpu']\n",
    "#dsout['date'] = dsout['date'].astype(int)\n",
    "dsout['cpu'] = dsout['cpu'].astype(int)\n",
    "#dsout['year'] = dsout['date'] // 100\n",
    "# dsout['month'] = dsout['date'] - 100 * dsout['year']\n",
    "dsout"
   ]
  },
  {
   "cell_type": "code",
   "execution_count": 2,
   "id": "0bdf3580-a89a-453f-8689-6e109223db5b",
   "metadata": {},
   "outputs": [
    {
     "data": {
      "text/html": [
       "<div>\n",
       "<style scoped>\n",
       "    .dataframe tbody tr th:only-of-type {\n",
       "        vertical-align: middle;\n",
       "    }\n",
       "\n",
       "    .dataframe tbody tr th {\n",
       "        vertical-align: top;\n",
       "    }\n",
       "\n",
       "    .dataframe thead th {\n",
       "        text-align: right;\n",
       "    }\n",
       "</style>\n",
       "<table border=\"1\" class=\"dataframe\">\n",
       "  <thead>\n",
       "    <tr style=\"text-align: right;\">\n",
       "      <th></th>\n",
       "      <th>cpu</th>\n",
       "    </tr>\n",
       "    <tr>\n",
       "      <th>user</th>\n",
       "      <th></th>\n",
       "    </tr>\n",
       "  </thead>\n",
       "  <tbody>\n",
       "    <tr>\n",
       "      <th>ldalaut</th>\n",
       "      <td>5239118893</td>\n",
       "    </tr>\n",
       "    <tr>\n",
       "      <th>mlengaig</th>\n",
       "      <td>3262922665</td>\n",
       "    </tr>\n",
       "    <tr>\n",
       "      <th>abrunel</th>\n",
       "      <td>3009418340</td>\n",
       "    </tr>\n",
       "    <tr>\n",
       "      <th>vdaniell</th>\n",
       "      <td>2926996476</td>\n",
       "    </tr>\n",
       "    <tr>\n",
       "      <th>jrault</th>\n",
       "      <td>2612348007</td>\n",
       "    </tr>\n",
       "    <tr>\n",
       "      <th>nbarrier</th>\n",
       "      <td>2575997334</td>\n",
       "    </tr>\n",
       "    <tr>\n",
       "      <th>adupaix</th>\n",
       "      <td>866069547</td>\n",
       "    </tr>\n",
       "    <tr>\n",
       "      <th>lbald</th>\n",
       "      <td>798163120</td>\n",
       "    </tr>\n",
       "    <tr>\n",
       "      <th>mdouille</th>\n",
       "      <td>496117827</td>\n",
       "    </tr>\n",
       "    <tr>\n",
       "      <th>cabello</th>\n",
       "      <td>484038226</td>\n",
       "    </tr>\n",
       "    <tr>\n",
       "      <th>omaury</th>\n",
       "      <td>392337821</td>\n",
       "    </tr>\n",
       "    <tr>\n",
       "      <th>aricouar</th>\n",
       "      <td>339309902</td>\n",
       "    </tr>\n",
       "    <tr>\n",
       "      <th>bcheikhm</th>\n",
       "      <td>320229679</td>\n",
       "    </tr>\n",
       "    <tr>\n",
       "      <th>clujanpa</th>\n",
       "      <td>224306997</td>\n",
       "    </tr>\n",
       "    <tr>\n",
       "      <th>rioliver</th>\n",
       "      <td>87525765</td>\n",
       "    </tr>\n",
       "    <tr>\n",
       "      <th>smahevas</th>\n",
       "      <td>45270929</td>\n",
       "    </tr>\n",
       "    <tr>\n",
       "      <th>amorell</th>\n",
       "      <td>25064245</td>\n",
       "    </tr>\n",
       "    <tr>\n",
       "      <th>jnaudet</th>\n",
       "      <td>13941882</td>\n",
       "    </tr>\n",
       "    <tr>\n",
       "      <th>ldecubbe</th>\n",
       "      <td>12084990</td>\n",
       "    </tr>\n",
       "    <tr>\n",
       "      <th>dkaplan</th>\n",
       "      <td>11975682</td>\n",
       "    </tr>\n",
       "    <tr>\n",
       "      <th>mbelhare</th>\n",
       "      <td>10029724</td>\n",
       "    </tr>\n",
       "    <tr>\n",
       "      <th>mbeneat</th>\n",
       "      <td>4320958</td>\n",
       "    </tr>\n",
       "    <tr>\n",
       "      <th>shopkins</th>\n",
       "      <td>2174172</td>\n",
       "    </tr>\n",
       "    <tr>\n",
       "      <th>cfelix</th>\n",
       "      <td>1366113</td>\n",
       "    </tr>\n",
       "    <tr>\n",
       "      <th>qschull</th>\n",
       "      <td>941568</td>\n",
       "    </tr>\n",
       "    <tr>\n",
       "      <th>llaumedr</th>\n",
       "      <td>306705</td>\n",
       "    </tr>\n",
       "    <tr>\n",
       "      <th>cdutheil</th>\n",
       "      <td>224632</td>\n",
       "    </tr>\n",
       "    <tr>\n",
       "      <th>dcortese</th>\n",
       "      <td>95099</td>\n",
       "    </tr>\n",
       "    <tr>\n",
       "      <th>cdelord</th>\n",
       "      <td>32846</td>\n",
       "    </tr>\n",
       "    <tr>\n",
       "      <th>jbarde</th>\n",
       "      <td>21558</td>\n",
       "    </tr>\n",
       "    <tr>\n",
       "      <th>slapegue</th>\n",
       "      <td>14097</td>\n",
       "    </tr>\n",
       "    <tr>\n",
       "      <th>crestrep</th>\n",
       "      <td>53</td>\n",
       "    </tr>\n",
       "  </tbody>\n",
       "</table>\n",
       "</div>"
      ],
      "text/plain": [
       "                  cpu\n",
       "user                 \n",
       "ldalaut    5239118893\n",
       "mlengaig   3262922665\n",
       "abrunel    3009418340\n",
       "vdaniell   2926996476\n",
       "jrault     2612348007\n",
       "nbarrier   2575997334\n",
       "adupaix     866069547\n",
       "lbald       798163120\n",
       "mdouille    496117827\n",
       "cabello     484038226\n",
       "omaury      392337821\n",
       "aricouar    339309902\n",
       "bcheikhm    320229679\n",
       "clujanpa    224306997\n",
       "rioliver     87525765\n",
       "smahevas     45270929\n",
       "amorell      25064245\n",
       "jnaudet      13941882\n",
       "ldecubbe     12084990\n",
       "dkaplan      11975682\n",
       "mbelhare     10029724\n",
       "mbeneat       4320958\n",
       "shopkins      2174172\n",
       "cfelix        1366113\n",
       "qschull        941568\n",
       "llaumedr       306705\n",
       "cdutheil       224632\n",
       "dcortese        95099\n",
       "cdelord         32846\n",
       "jbarde          21558\n",
       "slapegue        14097\n",
       "crestrep           53"
      ]
     },
     "execution_count": 2,
     "metadata": {},
     "output_type": "execute_result"
    }
   ],
   "source": [
    "dsout_byuser = dsout.groupby(dsout['user']).sum()\n",
    "dsout_byuser = dsout_byuser.sort_values(by=['cpu'], ascending=False)\n",
    "dsout_byuser"
   ]
  },
  {
   "cell_type": "code",
   "execution_count": 3,
   "id": "cf9602d9-e3f1-4d01-bf57-1cdeaabc8b3b",
   "metadata": {},
   "outputs": [
    {
     "data": {
      "image/png": "[encoded data removed]",
      "text/plain": [
       "<Figure size 1000x600 with 1 Axes>"
      ]
     },
     "metadata": {},
     "output_type": "display_data"
    }
   ],
   "source": [
    "plt.figure(figsize=(10, 6))\n",
    "ax = plt.gca()\n",
    "x = np.arange(0, len(dsout_byuser))\n",
    "plt.bar(x, dsout_byuser['cpu']/ (60 * 60))\n",
    "ax.set_xticks(x)\n",
    "ax.set_xticklabels(dsout_byuser.index, rotation=45, ha='right')\n",
    "ax.set_xlim(x.min() - 0.5, x.max() + 0.5)\n",
    "ax.set_ylabel('CPU time (h)')\n",
    "ax.set_title('Datarmor total CPU, 2023')\n",
    "plt.savefig('datarmor_usage_2023')"
   ]
  },
  {
   "cell_type": "markdown",
   "id": "6a60fdeb",
   "metadata": {},
   "source": [
    "## Estimation consomation d'un coeur"
   ]
  },
  {
   "cell_type": "markdown",
   "id": "fef44127",
   "metadata": {},
   "source": [
    "La consomation d'une heure CPU a ete estimee a partir des Dashboards Datarmor:\n",
    "\n",
    "- https://grafana.ifremer.fr/d/000000022/datarmor-diris?orgId=1&from=1672527600000&to=1704063599000\n",
    "- https://grafana.ifremer.fr/d/000000038/datarmor-pbsacctsql-rapport-exploit?orgId=1&from=1672527600000&to=1704063599000"
   ]
  },
  {
   "cell_type": "markdown",
   "id": "f8a37d5d",
   "metadata": {},
   "source": [
    "Ainsi, on a:"
   ]
  },
  {
   "cell_type": "code",
   "execution_count": 4,
   "id": "724c8969",
   "metadata": {},
   "outputs": [
    {
     "name": "stdout",
     "output_type": "stream",
     "text": [
      "Consommation moyenne heure CPU (kWh):  0.02448528643306111\n"
     ]
    }
   ],
   "source": [
    "ctot = 1.64 * 1e6 # kWh\n",
    "\n",
    "# Heures CPU totales\n",
    "cputot = (2003 + 47780 + 17196) * 1000  # conversion kiloheure/heure\n",
    "\n",
    "# mean = ptot / cputot # conversion from kW\n",
    "mean = ctot / cputot # en kWh/h donc en kW\n",
    "\n",
    "#print('Puissance moyenne heure CPU (kW): ', mean)\n",
    "print('Consommation moyenne heure CPU (kWh): ', mean)"
   ]
  },
  {
   "cell_type": "markdown",
   "id": "0e7511e8",
   "metadata": {},
   "source": [
    "## Estimation consomation totale\n",
    "\n",
    "Pour avoir la consomation totale, on somme sur tous les utilisateurs les temps CPU, que l'on multiplie par la consomation moyenne d'un noeud:"
   ]
  },
  {
   "cell_type": "code",
   "execution_count": 5,
   "id": "047e2552",
   "metadata": {},
   "outputs": [
    {
     "name": "stdout",
     "output_type": "stream",
     "text": [
      "Consomation totale (kWh)\n"
     ]
    },
    {
     "data": {
      "text/plain": [
       "cpu    161621.702313\n",
       "dtype: float64"
      ]
     },
     "execution_count": 5,
     "metadata": {},
     "output_type": "execute_result"
    }
   ],
   "source": [
    "# conversion from seconds to hours\n",
    "conv = 1 / (60 * 60)\n",
    "\n",
    "# Sum over years\n",
    "total_cpu = dsout_byuser.sum()\n",
    "\n",
    "# Sum over users\n",
    "print('Consomation totale (kWh)')\n",
    "data = total_cpu * mean * conv\n",
    "data"
   ]
  },
  {
   "cell_type": "markdown",
   "id": "f50ae3e7",
   "metadata": {},
   "source": [
    "## Facteurs multiplicatifs\n",
    "\n",
    "Pour prendre en compte le coût de fabrication et de démantèlement du matériel informatique, on multiplie par le \"FCYP\" (d'après LOCEAN, en France, 1.42)"
   ]
  },
  {
   "cell_type": "code",
   "execution_count": 6,
   "id": "7d787e33",
   "metadata": {},
   "outputs": [],
   "source": [
    "fcyp = 1.42\n",
    "data = data * fcyp"
   ]
  },
  {
   "cell_type": "markdown",
   "id": "18ffddff",
   "metadata": {},
   "source": [
    "## Consomation de carbone\n",
    "\n",
    "Pour convertir la consomation en equivalent CO2, on considere qu'en France, 1 kWh est equivalent a 0.1 kg d'equivalent CO2. Ainsi, les emissions sont obtenues en multipliant le tableu precedent par 0.1"
   ]
  },
  {
   "cell_type": "code",
   "execution_count": 7,
   "id": "d1267a65",
   "metadata": {},
   "outputs": [
    {
     "name": "stdout",
     "output_type": "stream",
     "text": [
      "Equivalent CO2 (ton eq. CO2)\n",
      "cpu    22.950282\n",
      "dtype: float64\n"
     ]
    }
   ],
   "source": [
    "conv = 0.1\n",
    "kg2ton = 1e-3\n",
    "\n",
    "print('Equivalent CO2 (ton eq. CO2)')\n",
    "print(data * conv * kg2ton)"
   ]
  }
 ],
 "metadata": {
  "celltoolbar": "Edit Metadata",
  "kernelspec": {
   "display_name": "Python 3 (ipykernel)",
   "language": "python",
   "name": "python3"
  },
  "language_info": {
   "codemirror_mode": {
    "name": "ipython",
    "version": 3
   },
   "file_extension": ".py",
   "mimetype": "text/x-python",
   "name": "python",
   "nbconvert_exporter": "python",
   "pygments_lexer": "ipython3",
   "version": "3.10.12"
  }
 },
 "nbformat": 4,
 "nbformat_minor": 5
}
