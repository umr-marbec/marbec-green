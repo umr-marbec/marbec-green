{
 "cells": [
  {
   "cell_type": "markdown",
   "metadata": {},
   "source": [
    "# Bilan Carbone Datarmor\n",
    "\n",
    "## Recuperations heures CPU\n",
    "\n",
    "Denis a envoye un mail contenant les heures CPU pour les utilisateur affilies a Marbec (groupes unix `emeX`, `marbecmd`). Ce mail a ete traite pour mettre les donnees au format CSV. \n",
    "\n",
    "Ensuite, le temps CPU mensuel par utilisateur a ete trace:"
   ]
  },
  {
   "cell_type": "code",
   "execution_count": 1,
   "metadata": {
    "tags": [
     "hide-input"
    ]
   },
   "outputs": [
    {
     "name": "stdout",
     "output_type": "stream",
     "text": [
      "    years  months  amorell  bcheikhm  cfelix  clujanpa  dkaplan  fbriton  \\\n",
      "55   2021       8      0.0       0.0     0.0       0.0      0.0      0.0   \n",
      "56   2021       9      0.0       0.0     0.0       0.0      0.0      0.0   \n",
      "57   2021      10      0.0       0.0     0.0       0.0      0.0      0.0   \n",
      "58   2021      11      0.0       0.0     0.0       0.0      0.0      0.0   \n",
      "59   2021      12      0.0       0.0     0.0       0.0      0.0      0.0   \n",
      "\n",
      "    fmoullec  gperez  ...  nbarrier  omaury  sakia  sdrira  timzilen  vdupre  \\\n",
      "55       0.0     0.0  ...       0.0     0.0    0.0     0.0       0.0     0.0   \n",
      "56       0.0     0.0  ...       0.0     0.0    0.0     0.0       0.0     0.0   \n",
      "57       0.0     0.0  ...       0.0     0.0    0.0     0.0       0.0     0.0   \n",
      "58       0.0     0.0  ...       0.0     0.0    0.0     0.0       0.0     0.0   \n",
      "59       0.0     0.0  ...       0.0     0.0    0.0     0.0       0.0     0.0   \n",
      "\n",
      "    yjshin  yyhamemo  fhoungna  ipitavac  \n",
      "55     0.0       0.0       0.0       0.0  \n",
      "56     0.0       0.0       0.0       0.0  \n",
      "57     0.0       0.0       0.0       0.0  \n",
      "58     0.0       0.0       0.0       0.0  \n",
      "59     0.0       0.0       0.0       0.0  \n",
      "\n",
      "[5 rows x 26 columns]\n"
     ]
    }
   ],
   "source": [
    "import numpy as np\n",
    "import pandas as pd\n",
    "import re\n",
    "\n",
    "months = ['janvier', 'fevrier', 'mars', 'avril', 'mai', 'juin', 'juillet', 'aout', 'septembre', 'octobre', 'novembre', 'decembre']\n",
    "years = list(np.arange(2017, 2021 + 1))\n",
    "nyears = len(years)\n",
    "nmonths = len(months)\n",
    "\n",
    "users = [\n",
    "'adupaix',\n",
    "'aduparc',\n",
    "'amorell',\n",
    "'aroy',\n",
    "'bcheikhm',\n",
    "'cfelix',\n",
    "'clujanpa',\n",
    "'dkaplan',\n",
    "'echassot',\n",
    "'fbriton',\n",
    "'fleloch',\n",
    "'fmoullec',\n",
    "'gperez',\n",
    "'iperez',\n",
    "'jbarde',\n",
    "'jlebranc',\n",
    "'jrault',\n",
    "'lescalle',\n",
    "'mandrell',\n",
    "'mbelhare',\n",
    "'mcapello',\n",
    "'mlengaig',\n",
    "'mmetge',\n",
    "'msimier',\n",
    "'msoria',\n",
    "'nbarrier',\n",
    "'nbez',\n",
    "'omaury',\n",
    "'rioliver',\n",
    "'sakia',\n",
    "'sdrira',\n",
    "'timzilen',\n",
    "'vdaniell',\n",
    "'vdupre',\n",
    "'yjshin',\n",
    "'yyhamemo',\n",
    "'cdelord',\n",
    "'fhoungna',\n",
    "'ipitavac']\n",
    "\n",
    "nusers = len(users)\n",
    "\n",
    "regexp = re.compile('^[0-9].*')\n",
    "\n",
    "output = np.zeros((nyears, nmonths, nusers))\n",
    "\n",
    "with open('data-datarmor/mail_denis.txt') as f:\n",
    "    lines = f.readlines()\n",
    "\n",
    "for l in lines:\n",
    "    \n",
    "    l = l.strip()\n",
    "    if(regexp.match(l)):\n",
    "        y, m = l.split(' ')\n",
    "        imonth = months.index(m)\n",
    "        iyear = years.index(int(y))\n",
    "    else:\n",
    "        l = re.sub(' +', ' ', l)\n",
    "        user, cpu = l.split(' ')\n",
    "        iuser = users.index(user)\n",
    "\n",
    "        output[iyear, imonth, iuser] = float(cpu)\n",
    "\n",
    "months = np.arange(12) + 1\n",
    "\n",
    "output = np.reshape(output, (nyears * nmonths, nusers))\n",
    "months, years = np.meshgrid(months, years)\n",
    "months = np.ravel(months)\n",
    "years = np.ravel(years)\n",
    "date = months + years * 1000\n",
    "\n",
    "data = {}\n",
    "data['years'] = years\n",
    "data['months'] = months\n",
    "for i in range(nusers):\n",
    "    u = users[i]\n",
    "    data[u] = output[:, i]\n",
    "\n",
    "dsout = pd.DataFrame(data)\n",
    "\n",
    "# Removing users with 0 conso\n",
    "columns = dsout.columns\n",
    "total = dsout.sum(axis=0)\n",
    "iok = np.nonzero(total.values == 0)[0]\n",
    "dsout = dsout.drop(columns = columns[iok])\n",
    "columns = dsout.columns\n",
    "dsout.to_csv('data-datarmor/formatted_cpu.csv')\n",
    "\n",
    "print(dsout.tail())"
   ]
  },
  {
   "cell_type": "code",
   "execution_count": 2,
   "metadata": {
    "tags": [
     "hide-input"
    ]
   },
   "outputs": [
    {
     "data": {
      "image/png": "[encoded data removed]",
      "text/plain": [
       "<Figure size 432x288 with 1 Axes>"
      ]
     },
     "metadata": {
      "needs_background": "light"
     },
     "output_type": "display_data"
    }
   ],
   "source": [
    "import matplotlib.pyplot as plt\n",
    "import pandas as pd\n",
    "import numpy as np\n",
    "\n",
    "data = pd.read_csv('data-datarmor/formatted_cpu.csv', index_col=0)\n",
    "\n",
    "years = data.loc[:, 'years'].values\n",
    "months = data.loc[:, 'months'].values\n",
    "\n",
    "data = data.iloc[:, 2:]\n",
    "users = list(data.columns)\n",
    "nusers = len(users)\n",
    "\n",
    "nlines, ncol = data.shape\n",
    "\n",
    "colors = plt.cm.nipy_spectral\n",
    "\n",
    "fig = plt.figure()\n",
    "ax = plt.gca()\n",
    "\n",
    "width = 1\n",
    "\n",
    "lobj = []\n",
    "\n",
    "for i in range(nlines):\n",
    "\n",
    "    bottom = 0\n",
    "    for u in range(nusers):\n",
    "        ic = u / (nusers - 1)\n",
    "        temp = data.iloc[i, u]\n",
    "        b = ax.bar(i, temp, width=width, bottom=bottom, color=colors(ic))\n",
    "        if(i == 0):\n",
    "            lobj.append(b)\n",
    "        bottom += temp\n",
    "\n",
    "temp = np.sum(data.values, axis=1)\n",
    "iok = np.nonzero(temp !=0)[0]\n",
    "\n",
    "xticks = np.arange(nlines)\n",
    "xticklabels = ['%.4d-%.2d' %(y, m) for y, m in zip(years, months)]\n",
    "\n",
    "stride = 3\n",
    "\n",
    "ax.set_xticks(xticks[::stride])\n",
    "ax.set_xticklabels(xticklabels[::stride], rotation=45, ha='right')\n",
    "plt.grid(True)\n",
    "\n",
    "ax.set_xlim(iok[0] - 0.5, iok[-1] + 0.5)\n",
    "ax.set_ylabel('CPU time (seconds)')\n",
    "\n",
    "plt.legend(lobj, users, fontsize=8, ncol=1, loc='right', bbox_to_anchor=(1.3, 0.5))\n",
    "plt.show()"
   ]
  },
  {
   "cell_type": "markdown",
   "metadata": {},
   "source": [
    "## Estimation consomation d'un coeur"
   ]
  },
  {
   "cell_type": "markdown",
   "metadata": {},
   "source": [
    "La consomation d'une heure CPU a ete estimee a partir du rapport `Datarmor_Exploitation_Rapport_2020-T3.pdf` fourni par Denis."
   ]
  },
  {
   "cell_type": "markdown",
   "metadata": {},
   "source": [
    "Ainsi, on a:"
   ]
  },
  {
   "cell_type": "code",
   "execution_count": 4,
   "metadata": {},
   "outputs": [
    {
     "name": "stdout",
     "output_type": "stream",
     "text": [
      "Consommation moyenne heure CPU (kW):  0.025408366124893073\n"
     ]
    }
   ],
   "source": [
    "# Puissance totale\n",
    "# Ici, on a une puissance, donc c'est un flux. Si on prend le premier mois par exemple, on a une puissance de 165.34 kW\n",
    "# Donc en 1h, Datarmor consomme 165.34 kWh.\n",
    "# Donc la conso total de Datarmor sur ce mois est 165.34 * nb d'heures dans le mois ?\n",
    "# J'ai fait des modifs, en commentant tes lignes Nico\n",
    "\n",
    "# ptot = 165.34 + 157.75 + 161.18  # kW\n",
    "ctot = (165.34 + 157.75)*(31*24) + 161.18*(30*24) # kWh\n",
    "\n",
    "# Heures CPU totales\n",
    "cputot = (5202 + 4009 + 4817) * 1000  # conversion kiloheure/heure\n",
    "\n",
    "# mean = ptot / cputot # conversion from kW\n",
    "mean = ctot / cputot # en kWh/h donc en kW\n",
    "\n",
    "#print('Puissance moyenne heure CPU (kW): ', mean)\n",
    "print('Consommation moyenne heure CPU (kWh): ', mean)"
   ]
  },
  {
   "cell_type": "markdown",
   "metadata": {},
   "source": [
    "## Estimation consomation totale\n",
    "\n",
    "Pour avoir la consomation totale, on somme sur tous les utilisateurs les temps CPU, que l'on multiplie par la consomation moyenne d'un noeud:"
   ]
  },
  {
   "cell_type": "code",
   "execution_count": 5,
   "metadata": {},
   "outputs": [
    {
     "name": "stdout",
     "output_type": "stream",
     "text": [
      "Consomation totale (kWh)\n",
      "years\n",
      "2017    47580.305986\n",
      "2018    82222.624866\n",
      "2019    25186.901054\n",
      "2020    49713.892098\n",
      "2021    41685.636097\n",
      "dtype: float64\n"
     ]
    }
   ],
   "source": [
    "import pandas as pd\n",
    "import numpy as np\n",
    "\n",
    "data = pd.read_csv('formatted_cpu.csv')\n",
    "data['years'] = data['years'].astype('category')\n",
    "\n",
    "# conversion from seconds to hours\n",
    "conv = 1 / (60 * 60)\n",
    "\n",
    "# Sum over years\n",
    "data = data.groupby('years').sum()\n",
    "\n",
    "# Sum over users\n",
    "print('Consomation totale (kWh)')\n",
    "data = data.sum(axis=1) * mean * conv\n",
    "print(data)\n"
   ]
  },
  {
   "cell_type": "markdown",
   "metadata": {},
   "source": [
    "## Facteurs multiplicatifs\n",
    "\n",
    "Pour prendre en compte le coût de fabrication et de démantèlement du matériel informatique, on multiplie par le \"FCYP\" (d'après LOCEAN, en France, 1.42)"
   ]
  },
  {
   "cell_type": "code",
   "execution_count": 8,
   "metadata": {},
   "outputs": [],
   "source": [
    "fcyp = 1.42\n",
    "\n",
    "data = data * fcyp"
   ]
  },
  {
   "cell_type": "markdown",
   "metadata": {},
   "source": [
    "## Consomation de carbone\n",
    "\n",
    "Pour convertir la consomation en equivalent CO2, on considere qu'en France, 1 kWh est equivalent a 0.1 kg d'equivalent CO2. Ainsi, les emissions sont obtenues en multipliant le tableu precedent par 0.1"
   ]
  },
  {
   "cell_type": "code",
   "execution_count": 9,
   "metadata": {},
   "outputs": [
    {
     "name": "stdout",
     "output_type": "stream",
     "text": [
      "Equivalent CO2 (ton eq. CO2)\n",
      "years\n",
      "2017     6.756403\n",
      "2018    11.675613\n",
      "2019     3.576540\n",
      "2020     7.059373\n",
      "2021     5.919360\n",
      "dtype: float64\n"
     ]
    }
   ],
   "source": [
    "conv = 0.1\n",
    "kg2ton = 1e-3\n",
    "\n",
    "print('Equivalent CO2 (ton eq. CO2)')\n",
    "print(data * conv * kg2ton)"
   ]
  }
 ],
 "metadata": {
  "celltoolbar": "Edit Metadata",
  "kernelspec": {
   "display_name": "Python 3",
   "language": "python",
   "name": "python3"
  },
  "language_info": {
   "codemirror_mode": {
    "name": "ipython",
    "version": 3
   },
   "file_extension": ".py",
   "mimetype": "text/x-python",
   "name": "python",
   "nbconvert_exporter": "python",
   "pygments_lexer": "ipython3",
   "version": "3.8.5"
  }
 },
 "nbformat": 4,
 "nbformat_minor": 5
}
