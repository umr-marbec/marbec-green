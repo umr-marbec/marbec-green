{
 "cells": [
  {
   "cell_type": "code",
   "execution_count": 57,
   "id": "25f3ba0c",
   "metadata": {},
   "outputs": [
    {
     "data": {
      "text/html": [
       "<div>\n",
       "<style scoped>\n",
       "    .dataframe tbody tr th:only-of-type {\n",
       "        vertical-align: middle;\n",
       "    }\n",
       "\n",
       "    .dataframe tbody tr th {\n",
       "        vertical-align: top;\n",
       "    }\n",
       "\n",
       "    .dataframe thead th {\n",
       "        text-align: right;\n",
       "    }\n",
       "</style>\n",
       "<table border=\"1\" class=\"dataframe\">\n",
       "  <thead>\n",
       "    <tr style=\"text-align: right;\">\n",
       "      <th></th>\n",
       "      <th>ID</th>\n",
       "      <th>Type</th>\n",
       "      <th>Mode de deplacement</th>\n",
       "      <th>N</th>\n",
       "      <th>Statut</th>\n",
       "      <th>Nombre de personne</th>\n",
       "      <th>Motif</th>\n",
       "      <th>Aller / Retour</th>\n",
       "      <th>Distance (km)</th>\n",
       "      <th>em</th>\n",
       "      <th>Incertitude (kg eCO2)</th>\n",
       "    </tr>\n",
       "  </thead>\n",
       "  <tbody>\n",
       "    <tr>\n",
       "      <th>0</th>\n",
       "      <td>1,2,99,515,868,1015,1370,1639</td>\n",
       "      <td>MX</td>\n",
       "      <td>plane</td>\n",
       "      <td>8</td>\n",
       "      <td>NaN</td>\n",
       "      <td>1</td>\n",
       "      <td>NaN</td>\n",
       "      <td>OUI</td>\n",
       "      <td>79500</td>\n",
       "      <td>6591</td>\n",
       "      <td>659</td>\n",
       "    </tr>\n",
       "    <tr>\n",
       "      <th>1</th>\n",
       "      <td>1,91,280,838,871,873,962,968,988,1190,1239,135...</td>\n",
       "      <td>NaN</td>\n",
       "      <td>train</td>\n",
       "      <td>15</td>\n",
       "      <td>NaN</td>\n",
       "      <td>1</td>\n",
       "      <td>NaN</td>\n",
       "      <td>OUI</td>\n",
       "      <td>21405</td>\n",
       "      <td>64</td>\n",
       "      <td>13</td>\n",
       "    </tr>\n",
       "    <tr>\n",
       "      <th>2</th>\n",
       "      <td>2</td>\n",
       "      <td>MX</td>\n",
       "      <td>plane</td>\n",
       "      <td>1</td>\n",
       "      <td>NaN</td>\n",
       "      <td>1</td>\n",
       "      <td>NaN</td>\n",
       "      <td>OUI</td>\n",
       "      <td>9511</td>\n",
       "      <td>788</td>\n",
       "      <td>79</td>\n",
       "    </tr>\n",
       "    <tr>\n",
       "      <th>3</th>\n",
       "      <td>2</td>\n",
       "      <td>NaN</td>\n",
       "      <td>plane</td>\n",
       "      <td>1</td>\n",
       "      <td>NaN</td>\n",
       "      <td>1</td>\n",
       "      <td>NaN</td>\n",
       "      <td>OUI</td>\n",
       "      <td>875</td>\n",
       "      <td>124</td>\n",
       "      <td>12</td>\n",
       "    </tr>\n",
       "    <tr>\n",
       "      <th>4</th>\n",
       "      <td>3</td>\n",
       "      <td>NaN</td>\n",
       "      <td>plane</td>\n",
       "      <td>1</td>\n",
       "      <td>NaN</td>\n",
       "      <td>1</td>\n",
       "      <td>NaN</td>\n",
       "      <td>OUI</td>\n",
       "      <td>1691</td>\n",
       "      <td>239</td>\n",
       "      <td>24</td>\n",
       "    </tr>\n",
       "    <tr>\n",
       "      <th>...</th>\n",
       "      <td>...</td>\n",
       "      <td>...</td>\n",
       "      <td>...</td>\n",
       "      <td>...</td>\n",
       "      <td>...</td>\n",
       "      <td>...</td>\n",
       "      <td>...</td>\n",
       "      <td>...</td>\n",
       "      <td>...</td>\n",
       "      <td>...</td>\n",
       "      <td>...</td>\n",
       "    </tr>\n",
       "    <tr>\n",
       "      <th>603</th>\n",
       "      <td>230</td>\n",
       "      <td>MX</td>\n",
       "      <td>plane</td>\n",
       "      <td>1</td>\n",
       "      <td>NaN</td>\n",
       "      <td>1</td>\n",
       "      <td>NaN</td>\n",
       "      <td>OUI</td>\n",
       "      <td>2169</td>\n",
       "      <td>222</td>\n",
       "      <td>22</td>\n",
       "    </tr>\n",
       "    <tr>\n",
       "      <th>604</th>\n",
       "      <td>231</td>\n",
       "      <td>NaN</td>\n",
       "      <td>car</td>\n",
       "      <td>1</td>\n",
       "      <td>NaN</td>\n",
       "      <td>1</td>\n",
       "      <td>NaN</td>\n",
       "      <td>OUI</td>\n",
       "      <td>291</td>\n",
       "      <td>68</td>\n",
       "      <td>41</td>\n",
       "    </tr>\n",
       "    <tr>\n",
       "      <th>605</th>\n",
       "      <td>232</td>\n",
       "      <td>NaN</td>\n",
       "      <td>car</td>\n",
       "      <td>1</td>\n",
       "      <td>NaN</td>\n",
       "      <td>1</td>\n",
       "      <td>NaN</td>\n",
       "      <td>OUI</td>\n",
       "      <td>291</td>\n",
       "      <td>68</td>\n",
       "      <td>41</td>\n",
       "    </tr>\n",
       "    <tr>\n",
       "      <th>606</th>\n",
       "      <td>233</td>\n",
       "      <td>NaN</td>\n",
       "      <td>train</td>\n",
       "      <td>1</td>\n",
       "      <td>NaN</td>\n",
       "      <td>1</td>\n",
       "      <td>NaN</td>\n",
       "      <td>OUI</td>\n",
       "      <td>2008</td>\n",
       "      <td>6</td>\n",
       "      <td>1</td>\n",
       "    </tr>\n",
       "    <tr>\n",
       "      <th>607</th>\n",
       "      <td>235</td>\n",
       "      <td>NaN</td>\n",
       "      <td>train</td>\n",
       "      <td>1</td>\n",
       "      <td>NaN</td>\n",
       "      <td>1</td>\n",
       "      <td>NaN</td>\n",
       "      <td>OUI</td>\n",
       "      <td>599</td>\n",
       "      <td>2</td>\n",
       "      <td>0</td>\n",
       "    </tr>\n",
       "  </tbody>\n",
       "</table>\n",
       "<p>608 rows × 11 columns</p>\n",
       "</div>"
      ],
      "text/plain": [
       "                                                    ID Type  \\\n",
       "0                        1,2,99,515,868,1015,1370,1639   MX   \n",
       "1    1,91,280,838,871,873,962,968,988,1190,1239,135...  NaN   \n",
       "2                                                    2   MX   \n",
       "3                                                    2  NaN   \n",
       "4                                                    3  NaN   \n",
       "..                                                 ...  ...   \n",
       "603                                                230   MX   \n",
       "604                                                231  NaN   \n",
       "605                                                232  NaN   \n",
       "606                                                233  NaN   \n",
       "607                                                235  NaN   \n",
       "\n",
       "    Mode de deplacement   N  Statut  Nombre de personne  Motif Aller / Retour  \\\n",
       "0                 plane   8     NaN                   1    NaN            OUI   \n",
       "1                 train  15     NaN                   1    NaN            OUI   \n",
       "2                 plane   1     NaN                   1    NaN            OUI   \n",
       "3                 plane   1     NaN                   1    NaN            OUI   \n",
       "4                 plane   1     NaN                   1    NaN            OUI   \n",
       "..                  ...  ..     ...                 ...    ...            ...   \n",
       "603               plane   1     NaN                   1    NaN            OUI   \n",
       "604                 car   1     NaN                   1    NaN            OUI   \n",
       "605                 car   1     NaN                   1    NaN            OUI   \n",
       "606               train   1     NaN                   1    NaN            OUI   \n",
       "607               train   1     NaN                   1    NaN            OUI   \n",
       "\n",
       "     Distance (km)    em  Incertitude (kg eCO2)  \n",
       "0            79500  6591                    659  \n",
       "1            21405    64                     13  \n",
       "2             9511   788                     79  \n",
       "3              875   124                     12  \n",
       "4             1691   239                     24  \n",
       "..             ...   ...                    ...  \n",
       "603           2169   222                     22  \n",
       "604            291    68                     41  \n",
       "605            291    68                     41  \n",
       "606           2008     6                      1  \n",
       "607            599     2                      0  \n",
       "\n",
       "[608 rows x 11 columns]"
      ]
     },
     "execution_count": 57,
     "metadata": {},
     "output_type": "execute_result"
    }
   ],
   "source": [
    "import pandas as pd\n",
    "import matplotlib.pyplot as plt\n",
    "import numpy as np\n",
    "\n",
    "data = pd.read_csv('empreinteCarboneMissions_2022121.tsv', sep='\\t')\n",
    "data = data.rename(columns={'Quantité' : 'N', 'Emission (kg eCO2)': 'em'})\n",
    "data"
   ]
  },
  {
   "cell_type": "code",
   "execution_count": 58,
   "id": "f8cd9ebc",
   "metadata": {},
   "outputs": [
    {
     "data": {
      "text/plain": [
       "1.0"
      ]
     },
     "execution_count": 58,
     "metadata": {},
     "output_type": "execute_result"
    }
   ],
   "source": [
    "dmin = float(em.min())\n",
    "dmin"
   ]
  },
  {
   "cell_type": "code",
   "execution_count": 59,
   "id": "8776d1d9",
   "metadata": {},
   "outputs": [
    {
     "data": {
      "text/plain": [
       "2859.0"
      ]
     },
     "execution_count": 59,
     "metadata": {},
     "output_type": "execute_result"
    }
   ],
   "source": [
    "dmax = float(em.max())\n",
    "dmax"
   ]
  },
  {
   "cell_type": "code",
   "execution_count": 60,
   "id": "6bc37b9c",
   "metadata": {},
   "outputs": [
    {
     "data": {
      "text/plain": [
       "3000"
      ]
     },
     "execution_count": 60,
     "metadata": {},
     "output_type": "execute_result"
    }
   ],
   "source": [
    "dmax = 3000\n",
    "dmax"
   ]
  },
  {
   "cell_type": "code",
   "execution_count": 61,
   "id": "62574896",
   "metadata": {},
   "outputs": [
    {
     "data": {
      "text/plain": [
       "array([   0,  100,  200,  300,  400,  500,  600,  700,  800,  900, 1000,\n",
       "       1100, 1200, 1300, 1400, 1500, 1600, 1700, 1800, 1900, 2000, 2100,\n",
       "       2200, 2300, 2400, 2500, 2600, 2700, 2800, 2900, 3000])"
      ]
     },
     "execution_count": 61,
     "metadata": {},
     "output_type": "execute_result"
    }
   ],
   "source": [
    "step = 100\n",
    "bins = np.arange(0, dmax + step, step)\n",
    "nbins = len(bins)\n",
    "bins"
   ]
  },
  {
   "cell_type": "code",
   "execution_count": 62,
   "id": "231ecfce",
   "metadata": {},
   "outputs": [
    {
     "data": {
      "text/plain": [
       "100"
      ]
     },
     "execution_count": 62,
     "metadata": {},
     "output_type": "execute_result"
    }
   ],
   "source": [
    "dl = np.diff(bins)[0]\n",
    "dl"
   ]
  },
  {
   "cell_type": "code",
   "execution_count": 63,
   "id": "059f579b",
   "metadata": {},
   "outputs": [],
   "source": [
    "index = np.digitize(em, bins, right=True)"
   ]
  },
  {
   "cell_type": "code",
   "execution_count": 64,
   "id": "27e85bce",
   "metadata": {},
   "outputs": [],
   "source": [
    "outputs = np.zeros((len(bins) - 1), dtype=float)\n",
    "for i in np.unique(index):\n",
    "    iok = np.nonzero(index == i)[0]\n",
    "    outputs[i - 1] = N[iok].sum()"
   ]
  },
  {
   "cell_type": "code",
   "execution_count": 65,
   "id": "f0afa35c",
   "metadata": {},
   "outputs": [
    {
     "data": {
      "image/png": "[encoded data removed]",
      "text/plain": [
       "<Figure size 1152x576 with 1 Axes>"
      ]
     },
     "metadata": {},
     "output_type": "display_data"
    }
   ],
   "source": [
    "plt.rcParams['font.size'] = 16\n",
    "plt.figure(figsize=(16, 8), facecolor='white')\n",
    "plt.bar(bins[slice(0, nbins - 1)], outputs, width=dl, align='edge', color='steelblue', edgecolor='k')\n",
    "plt.xlabel('Emission (kg eCO2)')\n",
    "plt.ylabel('Nombre de missions')\n",
    "plt.xlim(0, dmax)\n",
    "plt.savefig('number_missions_eco2.png', bbox_inches='tight')"
   ]
  },
  {
   "cell_type": "code",
   "execution_count": 66,
   "id": "24ec9c45",
   "metadata": {},
   "outputs": [
    {
     "data": {
      "text/plain": [
       "542.146"
      ]
     },
     "execution_count": 66,
     "metadata": {},
     "output_type": "execute_result"
    }
   ],
   "source": [
    "em = subdata['em'] * 1e-3  # conversion of emissions into tons.\n",
    "intem = em * subdata['N']  # integrate emissions by multiplying emissions by number of missions\n",
    "emtot = intem.sum()  # total emmissions in tons.\n",
    "emtot"
   ]
  },
  {
   "cell_type": "code",
   "execution_count": 68,
   "id": "126b7ab2",
   "metadata": {},
   "outputs": [
    {
     "name": "stdout",
     "output_type": "stream",
     "text": [
      "Threshold = 10 tons: reduction = 0.00% of total\n",
      "Threshold = 8 tons: reduction = 0.00% of total\n",
      "Threshold = 6 tons: reduction = 0.00% of total\n",
      "Threshold = 5 tons: reduction = 0.00% of total\n"
     ]
    }
   ],
   "source": [
    "threslist = [10, 8, 6, 5]  # list of thresholds\n",
    "for thres  in threslist:\n",
    "    test = (em > thres)  # true if emissions exceeds the threshold    \n",
    "    remem = intem[test].sum()  # integrates the total emissions \n",
    "    perc = (remem / emtot) * 100\n",
    "    print('Threshold = %d tons: reduction = %.2f' %(thres, perc) + '% of total')"
   ]
  }
 ],
 "metadata": {
  "kernelspec": {
   "display_name": "Python 3",
   "language": "python",
   "name": "python3"
  },
  "language_info": {
   "codemirror_mode": {
    "name": "ipython",
    "version": 3
   },
   "file_extension": ".py",
   "mimetype": "text/x-python",
   "name": "python",
   "nbconvert_exporter": "python",
   "pygments_lexer": "ipython3",
   "version": "3.7.10"
  }
 },
 "nbformat": 4,
 "nbformat_minor": 5
}
