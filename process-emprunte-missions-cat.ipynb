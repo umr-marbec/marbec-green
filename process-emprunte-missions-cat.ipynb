{
 "cells": [
  {
   "cell_type": "code",
   "execution_count": 91,
   "id": "25f3ba0c",
   "metadata": {},
   "outputs": [
    {
     "data": {
      "text/html": [
       "<div>\n",
       "<style scoped>\n",
       "    .dataframe tbody tr th:only-of-type {\n",
       "        vertical-align: middle;\n",
       "    }\n",
       "\n",
       "    .dataframe tbody tr th {\n",
       "        vertical-align: top;\n",
       "    }\n",
       "\n",
       "    .dataframe thead th {\n",
       "        text-align: right;\n",
       "    }\n",
       "</style>\n",
       "<table border=\"1\" class=\"dataframe\">\n",
       "  <thead>\n",
       "    <tr style=\"text-align: right;\">\n",
       "      <th></th>\n",
       "      <th>ID</th>\n",
       "      <th>Type</th>\n",
       "      <th>Mode de deplacement</th>\n",
       "      <th>N</th>\n",
       "      <th>Statut</th>\n",
       "      <th>Nombre de personne</th>\n",
       "      <th>Motif</th>\n",
       "      <th>Aller / Retour</th>\n",
       "      <th>Distance (km)</th>\n",
       "      <th>em</th>\n",
       "      <th>Incertitude (kg eCO2)</th>\n",
       "    </tr>\n",
       "  </thead>\n",
       "  <tbody>\n",
       "    <tr>\n",
       "      <th>0</th>\n",
       "      <td>1,2,99,515,868,1015,1370,1639</td>\n",
       "      <td>MX</td>\n",
       "      <td>plane</td>\n",
       "      <td>8</td>\n",
       "      <td>NaN</td>\n",
       "      <td>1</td>\n",
       "      <td>NaN</td>\n",
       "      <td>OUI</td>\n",
       "      <td>79500</td>\n",
       "      <td>6591</td>\n",
       "      <td>659</td>\n",
       "    </tr>\n",
       "    <tr>\n",
       "      <th>1</th>\n",
       "      <td>1,91,280,838,871,873,962,968,988,1190,1239,135...</td>\n",
       "      <td>NaN</td>\n",
       "      <td>train</td>\n",
       "      <td>15</td>\n",
       "      <td>NaN</td>\n",
       "      <td>1</td>\n",
       "      <td>NaN</td>\n",
       "      <td>OUI</td>\n",
       "      <td>21405</td>\n",
       "      <td>64</td>\n",
       "      <td>13</td>\n",
       "    </tr>\n",
       "    <tr>\n",
       "      <th>2</th>\n",
       "      <td>2</td>\n",
       "      <td>MX</td>\n",
       "      <td>plane</td>\n",
       "      <td>1</td>\n",
       "      <td>NaN</td>\n",
       "      <td>1</td>\n",
       "      <td>NaN</td>\n",
       "      <td>OUI</td>\n",
       "      <td>9511</td>\n",
       "      <td>788</td>\n",
       "      <td>79</td>\n",
       "    </tr>\n",
       "    <tr>\n",
       "      <th>3</th>\n",
       "      <td>2</td>\n",
       "      <td>NaN</td>\n",
       "      <td>plane</td>\n",
       "      <td>1</td>\n",
       "      <td>NaN</td>\n",
       "      <td>1</td>\n",
       "      <td>NaN</td>\n",
       "      <td>OUI</td>\n",
       "      <td>875</td>\n",
       "      <td>124</td>\n",
       "      <td>12</td>\n",
       "    </tr>\n",
       "    <tr>\n",
       "      <th>4</th>\n",
       "      <td>3</td>\n",
       "      <td>NaN</td>\n",
       "      <td>plane</td>\n",
       "      <td>1</td>\n",
       "      <td>NaN</td>\n",
       "      <td>1</td>\n",
       "      <td>NaN</td>\n",
       "      <td>OUI</td>\n",
       "      <td>1691</td>\n",
       "      <td>239</td>\n",
       "      <td>24</td>\n",
       "    </tr>\n",
       "    <tr>\n",
       "      <th>...</th>\n",
       "      <td>...</td>\n",
       "      <td>...</td>\n",
       "      <td>...</td>\n",
       "      <td>...</td>\n",
       "      <td>...</td>\n",
       "      <td>...</td>\n",
       "      <td>...</td>\n",
       "      <td>...</td>\n",
       "      <td>...</td>\n",
       "      <td>...</td>\n",
       "      <td>...</td>\n",
       "    </tr>\n",
       "    <tr>\n",
       "      <th>603</th>\n",
       "      <td>230</td>\n",
       "      <td>MX</td>\n",
       "      <td>plane</td>\n",
       "      <td>1</td>\n",
       "      <td>NaN</td>\n",
       "      <td>1</td>\n",
       "      <td>NaN</td>\n",
       "      <td>OUI</td>\n",
       "      <td>2169</td>\n",
       "      <td>222</td>\n",
       "      <td>22</td>\n",
       "    </tr>\n",
       "    <tr>\n",
       "      <th>604</th>\n",
       "      <td>231</td>\n",
       "      <td>NaN</td>\n",
       "      <td>car</td>\n",
       "      <td>1</td>\n",
       "      <td>NaN</td>\n",
       "      <td>1</td>\n",
       "      <td>NaN</td>\n",
       "      <td>OUI</td>\n",
       "      <td>291</td>\n",
       "      <td>68</td>\n",
       "      <td>41</td>\n",
       "    </tr>\n",
       "    <tr>\n",
       "      <th>605</th>\n",
       "      <td>232</td>\n",
       "      <td>NaN</td>\n",
       "      <td>car</td>\n",
       "      <td>1</td>\n",
       "      <td>NaN</td>\n",
       "      <td>1</td>\n",
       "      <td>NaN</td>\n",
       "      <td>OUI</td>\n",
       "      <td>291</td>\n",
       "      <td>68</td>\n",
       "      <td>41</td>\n",
       "    </tr>\n",
       "    <tr>\n",
       "      <th>606</th>\n",
       "      <td>233</td>\n",
       "      <td>NaN</td>\n",
       "      <td>train</td>\n",
       "      <td>1</td>\n",
       "      <td>NaN</td>\n",
       "      <td>1</td>\n",
       "      <td>NaN</td>\n",
       "      <td>OUI</td>\n",
       "      <td>2008</td>\n",
       "      <td>6</td>\n",
       "      <td>1</td>\n",
       "    </tr>\n",
       "    <tr>\n",
       "      <th>607</th>\n",
       "      <td>235</td>\n",
       "      <td>NaN</td>\n",
       "      <td>train</td>\n",
       "      <td>1</td>\n",
       "      <td>NaN</td>\n",
       "      <td>1</td>\n",
       "      <td>NaN</td>\n",
       "      <td>OUI</td>\n",
       "      <td>599</td>\n",
       "      <td>2</td>\n",
       "      <td>0</td>\n",
       "    </tr>\n",
       "  </tbody>\n",
       "</table>\n",
       "<p>608 rows × 11 columns</p>\n",
       "</div>"
      ],
      "text/plain": [
       "                                                    ID Type  \\\n",
       "0                        1,2,99,515,868,1015,1370,1639   MX   \n",
       "1    1,91,280,838,871,873,962,968,988,1190,1239,135...  NaN   \n",
       "2                                                    2   MX   \n",
       "3                                                    2  NaN   \n",
       "4                                                    3  NaN   \n",
       "..                                                 ...  ...   \n",
       "603                                                230   MX   \n",
       "604                                                231  NaN   \n",
       "605                                                232  NaN   \n",
       "606                                                233  NaN   \n",
       "607                                                235  NaN   \n",
       "\n",
       "    Mode de deplacement   N  Statut  Nombre de personne  Motif Aller / Retour  \\\n",
       "0                 plane   8     NaN                   1    NaN            OUI   \n",
       "1                 train  15     NaN                   1    NaN            OUI   \n",
       "2                 plane   1     NaN                   1    NaN            OUI   \n",
       "3                 plane   1     NaN                   1    NaN            OUI   \n",
       "4                 plane   1     NaN                   1    NaN            OUI   \n",
       "..                  ...  ..     ...                 ...    ...            ...   \n",
       "603               plane   1     NaN                   1    NaN            OUI   \n",
       "604                 car   1     NaN                   1    NaN            OUI   \n",
       "605                 car   1     NaN                   1    NaN            OUI   \n",
       "606               train   1     NaN                   1    NaN            OUI   \n",
       "607               train   1     NaN                   1    NaN            OUI   \n",
       "\n",
       "     Distance (km)    em  Incertitude (kg eCO2)  \n",
       "0            79500  6591                    659  \n",
       "1            21405    64                     13  \n",
       "2             9511   788                     79  \n",
       "3              875   124                     12  \n",
       "4             1691   239                     24  \n",
       "..             ...   ...                    ...  \n",
       "603           2169   222                     22  \n",
       "604            291    68                     41  \n",
       "605            291    68                     41  \n",
       "606           2008     6                      1  \n",
       "607            599     2                      0  \n",
       "\n",
       "[608 rows x 11 columns]"
      ]
     },
     "execution_count": 91,
     "metadata": {},
     "output_type": "execute_result"
    }
   ],
   "source": [
    "import pandas as pd\n",
    "import matplotlib.pyplot as plt\n",
    "import numpy as np\n",
    "\n",
    "data = pd.read_csv('empreinteCarboneMissions_2022121.tsv', sep='\\t')\n",
    "data = data.rename(columns={'Quantité' : 'N', 'Emission (kg eCO2)': 'em'})\n",
    "data"
   ]
  },
  {
   "cell_type": "code",
   "execution_count": 92,
   "id": "202402be",
   "metadata": {},
   "outputs": [
    {
     "data": {
      "text/html": [
       "<div>\n",
       "<style scoped>\n",
       "    .dataframe tbody tr th:only-of-type {\n",
       "        vertical-align: middle;\n",
       "    }\n",
       "\n",
       "    .dataframe tbody tr th {\n",
       "        vertical-align: top;\n",
       "    }\n",
       "\n",
       "    .dataframe thead th {\n",
       "        text-align: right;\n",
       "    }\n",
       "</style>\n",
       "<table border=\"1\" class=\"dataframe\">\n",
       "  <thead>\n",
       "    <tr style=\"text-align: right;\">\n",
       "      <th></th>\n",
       "      <th>N</th>\n",
       "      <th>em</th>\n",
       "    </tr>\n",
       "  </thead>\n",
       "  <tbody>\n",
       "    <tr>\n",
       "      <th>314</th>\n",
       "      <td>1</td>\n",
       "      <td>1</td>\n",
       "    </tr>\n",
       "    <tr>\n",
       "      <th>400</th>\n",
       "      <td>1</td>\n",
       "      <td>1</td>\n",
       "    </tr>\n",
       "    <tr>\n",
       "      <th>65</th>\n",
       "      <td>1</td>\n",
       "      <td>1</td>\n",
       "    </tr>\n",
       "    <tr>\n",
       "      <th>124</th>\n",
       "      <td>1</td>\n",
       "      <td>1</td>\n",
       "    </tr>\n",
       "    <tr>\n",
       "      <th>408</th>\n",
       "      <td>1</td>\n",
       "      <td>1</td>\n",
       "    </tr>\n",
       "    <tr>\n",
       "      <th>...</th>\n",
       "      <td>...</td>\n",
       "      <td>...</td>\n",
       "    </tr>\n",
       "    <tr>\n",
       "      <th>147</th>\n",
       "      <td>7</td>\n",
       "      <td>13557</td>\n",
       "    </tr>\n",
       "    <tr>\n",
       "      <th>168</th>\n",
       "      <td>9</td>\n",
       "      <td>14081</td>\n",
       "    </tr>\n",
       "    <tr>\n",
       "      <th>74</th>\n",
       "      <td>19</td>\n",
       "      <td>29799</td>\n",
       "    </tr>\n",
       "    <tr>\n",
       "      <th>19</th>\n",
       "      <td>25</td>\n",
       "      <td>30624</td>\n",
       "    </tr>\n",
       "    <tr>\n",
       "      <th>11</th>\n",
       "      <td>269</td>\n",
       "      <td>52386</td>\n",
       "    </tr>\n",
       "  </tbody>\n",
       "</table>\n",
       "<p>605 rows × 2 columns</p>\n",
       "</div>"
      ],
      "text/plain": [
       "       N     em\n",
       "314    1      1\n",
       "400    1      1\n",
       "65     1      1\n",
       "124    1      1\n",
       "408    1      1\n",
       "..   ...    ...\n",
       "147    7  13557\n",
       "168    9  14081\n",
       "74    19  29799\n",
       "19    25  30624\n",
       "11   269  52386\n",
       "\n",
       "[605 rows x 2 columns]"
      ]
     },
     "execution_count": 92,
     "metadata": {},
     "output_type": "execute_result"
    }
   ],
   "source": [
    "subdata = data.loc[:, ['N', 'em']]\n",
    "subdata = subdata.loc[subdata['em'] > 0, :]\n",
    "subdata = subdata.sort_values(by='em')\n",
    "em = subdata['em'].values.copy()\n",
    "N = subdata['N'].values.copy()\n",
    "subdata"
   ]
  },
  {
   "cell_type": "code",
   "execution_count": 93,
   "id": "f8cd9ebc",
   "metadata": {},
   "outputs": [
    {
     "data": {
      "text/plain": [
       "1.0"
      ]
     },
     "execution_count": 93,
     "metadata": {},
     "output_type": "execute_result"
    }
   ],
   "source": [
    "dmin = float(em.min())\n",
    "dmin"
   ]
  },
  {
   "cell_type": "code",
   "execution_count": 94,
   "id": "8776d1d9",
   "metadata": {},
   "outputs": [
    {
     "data": {
      "text/plain": [
       "52386.0"
      ]
     },
     "execution_count": 94,
     "metadata": {},
     "output_type": "execute_result"
    }
   ],
   "source": [
    "dmax = float(em.max())\n",
    "dmax"
   ]
  },
  {
   "cell_type": "code",
   "execution_count": 95,
   "id": "6bc37b9c",
   "metadata": {},
   "outputs": [
    {
     "data": {
      "text/plain": [
       "60000"
      ]
     },
     "execution_count": 95,
     "metadata": {},
     "output_type": "execute_result"
    }
   ],
   "source": [
    "dmax = 60000\n",
    "dmax"
   ]
  },
  {
   "cell_type": "code",
   "execution_count": 96,
   "id": "62574896",
   "metadata": {},
   "outputs": [
    {
     "data": {
      "text/plain": [
       "array([    0,  1000,  2000,  3000,  4000,  5000,  6000,  7000,  8000,\n",
       "        9000, 10000, 11000, 12000, 13000, 14000, 15000, 16000, 17000,\n",
       "       18000, 19000, 20000, 21000, 22000, 23000, 24000, 25000, 26000,\n",
       "       27000, 28000, 29000, 30000, 31000, 32000, 33000, 34000, 35000,\n",
       "       36000, 37000, 38000, 39000, 40000, 41000, 42000, 43000, 44000,\n",
       "       45000, 46000, 47000, 48000, 49000, 50000, 51000, 52000, 53000,\n",
       "       54000, 55000, 56000, 57000, 58000, 59000, 60000])"
      ]
     },
     "execution_count": 96,
     "metadata": {},
     "output_type": "execute_result"
    }
   ],
   "source": [
    "step = 1000\n",
    "bins = np.arange(0, dmax + step, step)\n",
    "nbins = len(bins)\n",
    "bins"
   ]
  },
  {
   "cell_type": "code",
   "execution_count": 97,
   "id": "231ecfce",
   "metadata": {},
   "outputs": [
    {
     "data": {
      "text/plain": [
       "1000"
      ]
     },
     "execution_count": 97,
     "metadata": {},
     "output_type": "execute_result"
    }
   ],
   "source": [
    "dl = np.diff(bins)[0]\n",
    "dl"
   ]
  },
  {
   "cell_type": "code",
   "execution_count": 98,
   "id": "059f579b",
   "metadata": {},
   "outputs": [],
   "source": [
    "index = np.digitize(em, bins, right=True)"
   ]
  },
  {
   "cell_type": "code",
   "execution_count": 99,
   "id": "27e85bce",
   "metadata": {},
   "outputs": [],
   "source": [
    "outputs = np.zeros((len(bins) - 1), dtype=float)\n",
    "for i in np.unique(index):\n",
    "    iok = np.nonzero(index == i)[0]\n",
    "    outputs[i - 1] = N[iok].sum()"
   ]
  },
  {
   "cell_type": "code",
   "execution_count": 100,
   "id": "f0afa35c",
   "metadata": {},
   "outputs": [
    {
     "data": {
      "image/png": "[encoded data removed]",
      "text/plain": [
       "<Figure size 1152x576 with 1 Axes>"
      ]
     },
     "metadata": {},
     "output_type": "display_data"
    }
   ],
   "source": [
    "plt.rcParams['font.size'] = 16\n",
    "plt.figure(figsize=(16, 8), facecolor='white')\n",
    "plt.bar(bins[slice(0, nbins - 1)], outputs, width=dl, align='edge', color='steelblue', edgecolor='k')\n",
    "plt.xlabel('Emission (kg eCO2)')\n",
    "plt.ylabel('Nombre de missions')\n",
    "plt.xlim(0, dmax)\n",
    "plt.savefig('number_missions_eco2.png', bbox_inches='tight')"
   ]
  },
  {
   "cell_type": "code",
   "execution_count": 108,
   "id": "7d5b7843",
   "metadata": {},
   "outputs": [
    {
     "data": {
      "text/html": [
       "<div>\n",
       "<style scoped>\n",
       "    .dataframe tbody tr th:only-of-type {\n",
       "        vertical-align: middle;\n",
       "    }\n",
       "\n",
       "    .dataframe tbody tr th {\n",
       "        vertical-align: top;\n",
       "    }\n",
       "\n",
       "    .dataframe thead th {\n",
       "        text-align: right;\n",
       "    }\n",
       "</style>\n",
       "<table border=\"1\" class=\"dataframe\">\n",
       "  <thead>\n",
       "    <tr style=\"text-align: right;\">\n",
       "      <th></th>\n",
       "      <th>N</th>\n",
       "      <th>em</th>\n",
       "    </tr>\n",
       "  </thead>\n",
       "  <tbody>\n",
       "    <tr>\n",
       "      <th>314</th>\n",
       "      <td>1</td>\n",
       "      <td>1</td>\n",
       "    </tr>\n",
       "    <tr>\n",
       "      <th>400</th>\n",
       "      <td>1</td>\n",
       "      <td>1</td>\n",
       "    </tr>\n",
       "    <tr>\n",
       "      <th>65</th>\n",
       "      <td>1</td>\n",
       "      <td>1</td>\n",
       "    </tr>\n",
       "    <tr>\n",
       "      <th>124</th>\n",
       "      <td>1</td>\n",
       "      <td>1</td>\n",
       "    </tr>\n",
       "    <tr>\n",
       "      <th>408</th>\n",
       "      <td>1</td>\n",
       "      <td>1</td>\n",
       "    </tr>\n",
       "    <tr>\n",
       "      <th>...</th>\n",
       "      <td>...</td>\n",
       "      <td>...</td>\n",
       "    </tr>\n",
       "    <tr>\n",
       "      <th>147</th>\n",
       "      <td>7</td>\n",
       "      <td>13557</td>\n",
       "    </tr>\n",
       "    <tr>\n",
       "      <th>168</th>\n",
       "      <td>9</td>\n",
       "      <td>14081</td>\n",
       "    </tr>\n",
       "    <tr>\n",
       "      <th>74</th>\n",
       "      <td>19</td>\n",
       "      <td>29799</td>\n",
       "    </tr>\n",
       "    <tr>\n",
       "      <th>19</th>\n",
       "      <td>25</td>\n",
       "      <td>30624</td>\n",
       "    </tr>\n",
       "    <tr>\n",
       "      <th>11</th>\n",
       "      <td>269</td>\n",
       "      <td>52386</td>\n",
       "    </tr>\n",
       "  </tbody>\n",
       "</table>\n",
       "<p>605 rows × 2 columns</p>\n",
       "</div>"
      ],
      "text/plain": [
       "       N     em\n",
       "314    1      1\n",
       "400    1      1\n",
       "65     1      1\n",
       "124    1      1\n",
       "408    1      1\n",
       "..   ...    ...\n",
       "147    7  13557\n",
       "168    9  14081\n",
       "74    19  29799\n",
       "19    25  30624\n",
       "11   269  52386\n",
       "\n",
       "[605 rows x 2 columns]"
      ]
     },
     "execution_count": 108,
     "metadata": {},
     "output_type": "execute_result"
    }
   ],
   "source": [
    "subdata"
   ]
  },
  {
   "cell_type": "code",
   "execution_count": 121,
   "id": "24ec9c45",
   "metadata": {},
   "outputs": [
    {
     "data": {
      "text/plain": [
       "18009.552"
      ]
     },
     "execution_count": 121,
     "metadata": {},
     "output_type": "execute_result"
    }
   ],
   "source": [
    "em = subdata['em'] * 1e-3  # conversion of emissions into tons.\n",
    "intem = em * subdata['N']  # integrate emissions by multiplying emissions by number of missions\n",
    "emtot = intem.sum()  # total emmissions in tons.\n",
    "emtot"
   ]
  },
  {
   "cell_type": "code",
   "execution_count": 133,
   "id": "126b7ab2",
   "metadata": {},
   "outputs": [
    {
     "name": "stdout",
     "output_type": "stream",
     "text": [
      "Threshold = 10 tons: reduction = 87.77% of total\n",
      "Threshold = 8 tons: reduction = 90.12% of total\n",
      "Threshold = 6 tons: reduction = 93.45% of total\n",
      "Threshold = 5 tons: reduction = 93.63% of total\n"
     ]
    }
   ],
   "source": [
    "threslist = [10, 8, 6, 5]  # list of thresholds\n",
    "for thres  in threslist:\n",
    "    test = (em > thres)  # true if emissions exceeds the threshold    \n",
    "    remem = intem[test].sum()  # integrates the total emissions \n",
    "    perc = (remem / emtot) * 100\n",
    "    print('Threshold = %d tons: reduction = %.2f' %(thres, perc) + '% of total')"
   ]
  },
  {
   "cell_type": "code",
   "execution_count": null,
   "id": "d8d525f2",
   "metadata": {},
   "outputs": [],
   "source": []
  }
 ],
 "metadata": {
  "kernelspec": {
   "display_name": "Python 3 (ipykernel)",
   "language": "python",
   "name": "python3"
  },
  "language_info": {
   "codemirror_mode": {
    "name": "ipython",
    "version": 3
   },
   "file_extension": ".py",
   "mimetype": "text/x-python",
   "name": "python",
   "nbconvert_exporter": "python",
   "pygments_lexer": "ipython3",
   "version": "3.8.10"
  }
 },
 "nbformat": 4,
 "nbformat_minor": 5
}
