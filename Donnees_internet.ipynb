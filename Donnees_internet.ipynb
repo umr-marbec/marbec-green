{
 "cells": [
  {
   "cell_type": "markdown",
   "metadata": {},
   "source": [
    "On cherche à calculer l'équivalent carbone de la consommation électrique due aux échanges de données internet. Pour cela, on utilise des informations de flux de données et de présence de personnels du site de Sète, pour se ramener à une consommation de données par jour et par personne. On généralise ensuite cette consommation à l'ensemble du personnel de l'UMR.\n",
    "\n",
    "On fait un certain nombre d'hypothèses:\n",
    "\n",
    "- la consommation d'internet par personne par jour n'a pas changé entre 2019 et 2021\n",
    "\n",
    "- les comportements d'utilisation d'internet du personnel à Sète n'est pas différent de celui des autres sites\n",
    "\n",
    "- le personnel MARBEC ne travaille que les jours ouvrés\n",
    "\n",
    "\n",
    "# 1. Calcul quantité de données échangées"
   ]
  },
  {
   "cell_type": "markdown",
   "metadata": {},
   "source": [
    "On a, par jour, un flux moyen entrant et un flux moyen sortant. Le flux moyen de chaque jour est enregistré le lendemain à 1h du matin"
   ]
  },
  {
   "cell_type": "code",
   "execution_count": 1,
   "metadata": {},
   "outputs": [
    {
     "data": {
      "text/html": [
       "<div>\n",
       "<style scoped>\n",
       "    .dataframe tbody tr th:only-of-type {\n",
       "        vertical-align: middle;\n",
       "    }\n",
       "\n",
       "    .dataframe tbody tr th {\n",
       "        vertical-align: top;\n",
       "    }\n",
       "\n",
       "    .dataframe thead th {\n",
       "        text-align: right;\n",
       "    }\n",
       "</style>\n",
       "<table border=\"1\" class=\"dataframe\">\n",
       "  <thead>\n",
       "    <tr style=\"text-align: right;\">\n",
       "      <th></th>\n",
       "      <th>Hostname</th>\n",
       "      <th>Target</th>\n",
       "      <th>Sample Date YMD</th>\n",
       "      <th>Sample Time HHMM</th>\n",
       "      <th>Count in seconds</th>\n",
       "      <th>Incoming traffic in bps (avg day)</th>\n",
       "      <th>Outgoing traffic in bps (avg day)</th>\n",
       "      <th>Peak inbound traffic in bps</th>\n",
       "      <th>Peak outbound traffic in bps</th>\n",
       "      <th>Date</th>\n",
       "    </tr>\n",
       "  </thead>\n",
       "  <tbody>\n",
       "    <tr>\n",
       "      <th>0</th>\n",
       "      <td>sites</td>\n",
       "      <td>GigabitEthernet1/0</td>\n",
       "      <td>11/23/2020</td>\n",
       "      <td>1:00</td>\n",
       "      <td>1606089600</td>\n",
       "      <td>55192.0</td>\n",
       "      <td>117222.6</td>\n",
       "      <td>601766.4</td>\n",
       "      <td>2346130.7</td>\n",
       "      <td>2020-11-22</td>\n",
       "    </tr>\n",
       "    <tr>\n",
       "      <th>1</th>\n",
       "      <td>sites</td>\n",
       "      <td>GigabitEthernet1/0</td>\n",
       "      <td>11/24/2020</td>\n",
       "      <td>1:00</td>\n",
       "      <td>1606176000</td>\n",
       "      <td>5351484.2</td>\n",
       "      <td>1745443.2</td>\n",
       "      <td>46186475.3</td>\n",
       "      <td>21301345.1</td>\n",
       "      <td>2020-11-23</td>\n",
       "    </tr>\n",
       "    <tr>\n",
       "      <th>2</th>\n",
       "      <td>sites</td>\n",
       "      <td>GigabitEthernet1/0</td>\n",
       "      <td>11/25/2020</td>\n",
       "      <td>1:00</td>\n",
       "      <td>1606262400</td>\n",
       "      <td>7087875.1</td>\n",
       "      <td>1063973.7</td>\n",
       "      <td>77554496.2</td>\n",
       "      <td>14717147.1</td>\n",
       "      <td>2020-11-24</td>\n",
       "    </tr>\n",
       "    <tr>\n",
       "      <th>3</th>\n",
       "      <td>sites</td>\n",
       "      <td>GigabitEthernet1/0</td>\n",
       "      <td>11/26/2020</td>\n",
       "      <td>1:00</td>\n",
       "      <td>1606348800</td>\n",
       "      <td>5238180.8</td>\n",
       "      <td>2139920.4</td>\n",
       "      <td>72566815.4</td>\n",
       "      <td>32529461.6</td>\n",
       "      <td>2020-11-25</td>\n",
       "    </tr>\n",
       "    <tr>\n",
       "      <th>4</th>\n",
       "      <td>sites</td>\n",
       "      <td>GigabitEthernet1/0</td>\n",
       "      <td>11/27/2020</td>\n",
       "      <td>1:00</td>\n",
       "      <td>1606435200</td>\n",
       "      <td>6030543.9</td>\n",
       "      <td>5191834.1</td>\n",
       "      <td>35059495.4</td>\n",
       "      <td>70644815.9</td>\n",
       "      <td>2020-11-26</td>\n",
       "    </tr>\n",
       "    <tr>\n",
       "      <th>...</th>\n",
       "      <td>...</td>\n",
       "      <td>...</td>\n",
       "      <td>...</td>\n",
       "      <td>...</td>\n",
       "      <td>...</td>\n",
       "      <td>...</td>\n",
       "      <td>...</td>\n",
       "      <td>...</td>\n",
       "      <td>...</td>\n",
       "      <td>...</td>\n",
       "    </tr>\n",
       "    <tr>\n",
       "      <th>360</th>\n",
       "      <td>sites</td>\n",
       "      <td>GigabitEthernet1/0</td>\n",
       "      <td>11/18/2021</td>\n",
       "      <td>1:00</td>\n",
       "      <td>1637193600</td>\n",
       "      <td>28440854.6</td>\n",
       "      <td>9821430.1</td>\n",
       "      <td>175365040.4</td>\n",
       "      <td>159933589.3</td>\n",
       "      <td>2021-11-17</td>\n",
       "    </tr>\n",
       "    <tr>\n",
       "      <th>361</th>\n",
       "      <td>sites</td>\n",
       "      <td>GigabitEthernet1/0</td>\n",
       "      <td>11/19/2021</td>\n",
       "      <td>1:00</td>\n",
       "      <td>1637280000</td>\n",
       "      <td>27491672.0</td>\n",
       "      <td>6812135.1</td>\n",
       "      <td>175481504.2</td>\n",
       "      <td>88729496.2</td>\n",
       "      <td>2021-11-18</td>\n",
       "    </tr>\n",
       "    <tr>\n",
       "      <th>362</th>\n",
       "      <td>sites</td>\n",
       "      <td>GigabitEthernet1/0</td>\n",
       "      <td>11/20/2021</td>\n",
       "      <td>1:00</td>\n",
       "      <td>1637366400</td>\n",
       "      <td>22971880.9</td>\n",
       "      <td>7349417.9</td>\n",
       "      <td>175626957.8</td>\n",
       "      <td>37371580.7</td>\n",
       "      <td>2021-11-19</td>\n",
       "    </tr>\n",
       "    <tr>\n",
       "      <th>363</th>\n",
       "      <td>sites</td>\n",
       "      <td>GigabitEthernet1/0</td>\n",
       "      <td>11/21/2021</td>\n",
       "      <td>1:00</td>\n",
       "      <td>1637452800</td>\n",
       "      <td>311307.2</td>\n",
       "      <td>1581631.7</td>\n",
       "      <td>6464377.3</td>\n",
       "      <td>100715441.7</td>\n",
       "      <td>2021-11-20</td>\n",
       "    </tr>\n",
       "    <tr>\n",
       "      <th>364</th>\n",
       "      <td>sites</td>\n",
       "      <td>GigabitEthernet1/0</td>\n",
       "      <td>11/22/2021</td>\n",
       "      <td>1:00</td>\n",
       "      <td>1637539200</td>\n",
       "      <td>121206.4</td>\n",
       "      <td>62317.4</td>\n",
       "      <td>1257204.4</td>\n",
       "      <td>672556.4</td>\n",
       "      <td>2021-11-21</td>\n",
       "    </tr>\n",
       "  </tbody>\n",
       "</table>\n",
       "<p>365 rows × 10 columns</p>\n",
       "</div>"
      ],
      "text/plain": [
       "    Hostname              Target Sample Date YMD Sample Time HHMM  \\\n",
       "0      sites  GigabitEthernet1/0      11/23/2020             1:00   \n",
       "1      sites  GigabitEthernet1/0      11/24/2020             1:00   \n",
       "2      sites  GigabitEthernet1/0      11/25/2020             1:00   \n",
       "3      sites  GigabitEthernet1/0      11/26/2020             1:00   \n",
       "4      sites  GigabitEthernet1/0      11/27/2020             1:00   \n",
       "..       ...                 ...             ...              ...   \n",
       "360    sites  GigabitEthernet1/0      11/18/2021             1:00   \n",
       "361    sites  GigabitEthernet1/0      11/19/2021             1:00   \n",
       "362    sites  GigabitEthernet1/0      11/20/2021             1:00   \n",
       "363    sites  GigabitEthernet1/0      11/21/2021             1:00   \n",
       "364    sites  GigabitEthernet1/0      11/22/2021             1:00   \n",
       "\n",
       "     Count in seconds  Incoming traffic in bps (avg day)  \\\n",
       "0          1606089600                            55192.0   \n",
       "1          1606176000                          5351484.2   \n",
       "2          1606262400                          7087875.1   \n",
       "3          1606348800                          5238180.8   \n",
       "4          1606435200                          6030543.9   \n",
       "..                ...                                ...   \n",
       "360        1637193600                         28440854.6   \n",
       "361        1637280000                         27491672.0   \n",
       "362        1637366400                         22971880.9   \n",
       "363        1637452800                           311307.2   \n",
       "364        1637539200                           121206.4   \n",
       "\n",
       "     Outgoing traffic in bps (avg day)  Peak inbound traffic in bps  \\\n",
       "0                             117222.6                     601766.4   \n",
       "1                            1745443.2                   46186475.3   \n",
       "2                            1063973.7                   77554496.2   \n",
       "3                            2139920.4                   72566815.4   \n",
       "4                            5191834.1                   35059495.4   \n",
       "..                                 ...                          ...   \n",
       "360                          9821430.1                  175365040.4   \n",
       "361                          6812135.1                  175481504.2   \n",
       "362                          7349417.9                  175626957.8   \n",
       "363                          1581631.7                    6464377.3   \n",
       "364                            62317.4                    1257204.4   \n",
       "\n",
       "     Peak outbound traffic in bps       Date  \n",
       "0                       2346130.7 2020-11-22  \n",
       "1                      21301345.1 2020-11-23  \n",
       "2                      14717147.1 2020-11-24  \n",
       "3                      32529461.6 2020-11-25  \n",
       "4                      70644815.9 2020-11-26  \n",
       "..                            ...        ...  \n",
       "360                   159933589.3 2021-11-17  \n",
       "361                    88729496.2 2021-11-18  \n",
       "362                    37371580.7 2021-11-19  \n",
       "363                   100715441.7 2021-11-20  \n",
       "364                      672556.4 2021-11-21  \n",
       "\n",
       "[365 rows x 10 columns]"
      ]
     },
     "execution_count": 1,
     "metadata": {},
     "output_type": "execute_result"
    }
   ],
   "source": [
    "import pandas as pd\n",
    "import numpy as np\n",
    "import math\n",
    "from datetime import timedelta\n",
    "\n",
    "traffic_df = pd.read_csv(\"data-donnees-internet/traffic-donnees-sete.csv\")\n",
    "traffic_df['Date']=pd.to_datetime(traffic_df['Sample Date YMD'], infer_datetime_format=True)\n",
    "traffic_df['Date']=traffic_df['Date']-timedelta(days=1)\n",
    "traffic_df"
   ]
  },
  {
   "cell_type": "markdown",
   "metadata": {},
   "source": [
    "On passe du flux de données (en bps) à une quantité de données, sur l'ensemble de la journée.\n",
    "\n",
    "## Quantité de données envoyées"
   ]
  },
  {
   "cell_type": "code",
   "execution_count": 2,
   "metadata": {},
   "outputs": [],
   "source": [
    "n_hours_in_day = 24\n",
    "traffic_df['data_out_Gb'] = (3600 * n_hours_in_day * traffic_df['Outgoing traffic in bps (avg day)'] / 10**9)"
   ]
  },
  {
   "cell_type": "code",
   "execution_count": 3,
   "metadata": {},
   "outputs": [
    {
     "name": "stdout",
     "output_type": "stream",
     "text": [
      "Moyenne journalière de la quantité de données envoyées (Gb):  436.5687608679453\n"
     ]
    }
   ],
   "source": [
    "print('Moyenne journalière de la quantité de données envoyées (Gb): ', traffic_df['data_out_Gb'].mean())"
   ]
  },
  {
   "cell_type": "markdown",
   "metadata": {},
   "source": [
    "## Quantité de données reçues"
   ]
  },
  {
   "cell_type": "code",
   "execution_count": 4,
   "metadata": {},
   "outputs": [],
   "source": [
    "traffic_df['data_in_Gb'] = (3600 * n_hours_in_day * traffic_df['Incoming traffic in bps (avg day)'] / 10**9)"
   ]
  },
  {
   "cell_type": "code",
   "execution_count": 5,
   "metadata": {},
   "outputs": [
    {
     "name": "stdout",
     "output_type": "stream",
     "text": [
      "Moyenne journalière de la quantité de données reçues (Gb):  662.7279638347401\n"
     ]
    }
   ],
   "source": [
    "print('Moyenne journalière de la quantité de données reçues (Gb): ', traffic_df['data_in_Gb'].mean())"
   ]
  },
  {
   "cell_type": "markdown",
   "metadata": {},
   "source": [
    "# 2. Données de présence sur site\n",
    "\n",
    "On a accès au nombre de personnes présentes chaque jour sur site"
   ]
  },
  {
   "cell_type": "code",
   "execution_count": 6,
   "metadata": {},
   "outputs": [],
   "source": [
    "# Lit les données de présence\n",
    "presence_df = pd.read_csv(\"data-donnees-internet/presence_sete.csv\")"
   ]
  },
  {
   "cell_type": "code",
   "execution_count": 7,
   "metadata": {},
   "outputs": [],
   "source": [
    "# Renomme les colonnes\n",
    "presence_df = presence_df.set_axis([\"M-D\",\"N\"], axis=1)\n",
    "# Ajoute une colonne année\n",
    "presence_df = presence_df.assign(Y = np.repeat(str(2021), presence_df.shape[0]))\n",
    "# Crée un colonne avec la date\n",
    "presence_df['Date'] = presence_df['M-D'].str.cat(presence_df['Y'], sep='-')\n",
    "# Met au format date\n",
    "presence_df['Date'] = pd.to_datetime(presence_df['Date'], infer_datetime_format=True, errors = \"coerce\")"
   ]
  },
  {
   "cell_type": "code",
   "execution_count": 8,
   "metadata": {},
   "outputs": [
    {
     "data": {
      "text/html": [
       "<div>\n",
       "<style scoped>\n",
       "    .dataframe tbody tr th:only-of-type {\n",
       "        vertical-align: middle;\n",
       "    }\n",
       "\n",
       "    .dataframe tbody tr th {\n",
       "        vertical-align: top;\n",
       "    }\n",
       "\n",
       "    .dataframe thead th {\n",
       "        text-align: right;\n",
       "    }\n",
       "</style>\n",
       "<table border=\"1\" class=\"dataframe\">\n",
       "  <thead>\n",
       "    <tr style=\"text-align: right;\">\n",
       "      <th></th>\n",
       "      <th>M-D</th>\n",
       "      <th>N</th>\n",
       "      <th>Y</th>\n",
       "      <th>Date</th>\n",
       "    </tr>\n",
       "  </thead>\n",
       "  <tbody>\n",
       "    <tr>\n",
       "      <th>0</th>\n",
       "      <td>01-04</td>\n",
       "      <td>37.0</td>\n",
       "      <td>2021</td>\n",
       "      <td>2021-01-04</td>\n",
       "    </tr>\n",
       "    <tr>\n",
       "      <th>1</th>\n",
       "      <td>01-05</td>\n",
       "      <td>38.0</td>\n",
       "      <td>2021</td>\n",
       "      <td>2021-01-05</td>\n",
       "    </tr>\n",
       "    <tr>\n",
       "      <th>2</th>\n",
       "      <td>01-06</td>\n",
       "      <td>32.0</td>\n",
       "      <td>2021</td>\n",
       "      <td>2021-01-06</td>\n",
       "    </tr>\n",
       "    <tr>\n",
       "      <th>3</th>\n",
       "      <td>01-07</td>\n",
       "      <td>36.0</td>\n",
       "      <td>2021</td>\n",
       "      <td>2021-01-07</td>\n",
       "    </tr>\n",
       "    <tr>\n",
       "      <th>4</th>\n",
       "      <td>01-08</td>\n",
       "      <td>32.0</td>\n",
       "      <td>2021</td>\n",
       "      <td>2021-01-08</td>\n",
       "    </tr>\n",
       "    <tr>\n",
       "      <th>...</th>\n",
       "      <td>...</td>\n",
       "      <td>...</td>\n",
       "      <td>...</td>\n",
       "      <td>...</td>\n",
       "    </tr>\n",
       "    <tr>\n",
       "      <th>157</th>\n",
       "      <td>12-27</td>\n",
       "      <td>5.0</td>\n",
       "      <td>2021</td>\n",
       "      <td>2021-12-27</td>\n",
       "    </tr>\n",
       "    <tr>\n",
       "      <th>158</th>\n",
       "      <td>12-28</td>\n",
       "      <td>4.0</td>\n",
       "      <td>2021</td>\n",
       "      <td>2021-12-28</td>\n",
       "    </tr>\n",
       "    <tr>\n",
       "      <th>159</th>\n",
       "      <td>12-29</td>\n",
       "      <td>3.0</td>\n",
       "      <td>2021</td>\n",
       "      <td>2021-12-29</td>\n",
       "    </tr>\n",
       "    <tr>\n",
       "      <th>160</th>\n",
       "      <td>12-30</td>\n",
       "      <td>3.0</td>\n",
       "      <td>2021</td>\n",
       "      <td>2021-12-30</td>\n",
       "    </tr>\n",
       "    <tr>\n",
       "      <th>161</th>\n",
       "      <td>12-31</td>\n",
       "      <td>3.0</td>\n",
       "      <td>2021</td>\n",
       "      <td>2021-12-31</td>\n",
       "    </tr>\n",
       "  </tbody>\n",
       "</table>\n",
       "<p>162 rows × 4 columns</p>\n",
       "</div>"
      ],
      "text/plain": [
       "       M-D     N     Y       Date\n",
       "0    01-04  37.0  2021 2021-01-04\n",
       "1    01-05  38.0  2021 2021-01-05\n",
       "2    01-06  32.0  2021 2021-01-06\n",
       "3    01-07  36.0  2021 2021-01-07\n",
       "4    01-08  32.0  2021 2021-01-08\n",
       "..     ...   ...   ...        ...\n",
       "157  12-27   5.0  2021 2021-12-27\n",
       "158  12-28   4.0  2021 2021-12-28\n",
       "159  12-29   3.0  2021 2021-12-29\n",
       "160  12-30   3.0  2021 2021-12-30\n",
       "161  12-31   3.0  2021 2021-12-31\n",
       "\n",
       "[162 rows x 4 columns]"
      ]
     },
     "execution_count": 8,
     "metadata": {},
     "output_type": "execute_result"
    }
   ],
   "source": [
    "presence_df"
   ]
  },
  {
   "cell_type": "markdown",
   "metadata": {},
   "source": [
    "# 3. Calcul de la moyenne par jour par personne\n",
    "\n",
    "On utilise les données de présence sur site et la quantité de données échangée par jour pour déterminer une \"consommation\" de données internet moyenne **par personne par jour**."
   ]
  },
  {
   "cell_type": "code",
   "execution_count": 9,
   "metadata": {},
   "outputs": [],
   "source": [
    "# Merge les deux data frame\n",
    "df = presence_df.merge(traffic_df)\n",
    "# Garde uniquement les jours avec plus de 30 personnes sur site\n",
    "df = df[df.N >= 30]\n",
    "# Calcul la moyenne par personne\n",
    "df['data_out_per_p_Gb'] = df['data_out_Gb'] / df['N']\n",
    "df['data_in_per_p_Gb'] = df['data_in_Gb'] / df['N']"
   ]
  },
  {
   "cell_type": "code",
   "execution_count": 10,
   "metadata": {},
   "outputs": [
    {
     "name": "stdout",
     "output_type": "stream",
     "text": [
      "Moyenne par jour par personne de la quantité de données envoyées (Gb):  9.406363959238483\n",
      "Ecart type:  14.258392734363067\n"
     ]
    }
   ],
   "source": [
    "print('Moyenne par jour par personne de la quantité de données envoyées (Gb): ', df['data_out_per_p_Gb'].mean())\n",
    "print('Ecart type: ', df['data_out_per_p_Gb'].std())"
   ]
  },
  {
   "cell_type": "code",
   "execution_count": 11,
   "metadata": {},
   "outputs": [
    {
     "name": "stdout",
     "output_type": "stream",
     "text": [
      "Moyenne par jour par personne de la quantité de données reçues (Gb):  21.56091291885494\n",
      "Ecart type:  24.40654832108056\n"
     ]
    }
   ],
   "source": [
    "print('Moyenne par jour par personne de la quantité de données reçues (Gb): ', df['data_in_per_p_Gb'].mean())\n",
    "print('Ecart type: ', df['data_in_per_p_Gb'].std())"
   ]
  },
  {
   "cell_type": "markdown",
   "metadata": {},
   "source": [
    "# 4. Calcul de la consommation totale et équivalent carbone"
   ]
  },
  {
   "cell_type": "markdown",
   "metadata": {},
   "source": [
    "On utilise le ratio déduit de l'application Carbonalyser, basée sur le \"1byte model\": https://theshiftproject.org/en/carbonalyser-browser-extension/. On obtient un ratio de 0.35 Wh/Mb = **0.35 kWh/Gb**."
   ]
  },
  {
   "cell_type": "code",
   "execution_count": 12,
   "metadata": {},
   "outputs": [
    {
     "name": "stdout",
     "output_type": "stream",
     "text": [
      "Consommation moyenne d'électricité par jour et par personne (kWh):  10.838546907332697\n"
     ]
    }
   ],
   "source": [
    "ratio_kWhGb = 0.35\n",
    "donnees_jour_Gb = df['data_out_per_p_Gb'].mean() + df['data_in_per_p_Gb'].mean()\n",
    "elec_jour_per_p_kWh = donnees_jour_Gb*ratio_kWhGb\n",
    "\n",
    "print(\"Consommation moyenne d'électricité par jour et par personne (kWh): \", elec_jour_per_p_kWh)"
   ]
  },
  {
   "cell_type": "code",
   "execution_count": 13,
   "metadata": {
    "scrolled": true
   },
   "outputs": [
    {
     "name": "stdout",
     "output_type": "stream",
     "text": [
      "Consommation d'électricité par jour (kWh):  2872.2149304431646\n"
     ]
    }
   ],
   "source": [
    "effectif = 265\n",
    "\n",
    "print(\"Consommation d'électricité par jour (kWh): \", elec_jour_per_p_kWh*effectif)"
   ]
  },
  {
   "cell_type": "code",
   "execution_count": 14,
   "metadata": {},
   "outputs": [
    {
     "name": "stdout",
     "output_type": "stream",
     "text": [
      "Consommation d'électricité totale en 2019 (kWh):  715181.517680348\n"
     ]
    }
   ],
   "source": [
    "n_jours_ouvre = 249\n",
    "\n",
    "print(\"Consommation d'électricité totale en 2019 (kWh): \", elec_jour_per_p_kWh*effectif*n_jours_ouvre)"
   ]
  },
  {
   "cell_type": "code",
   "execution_count": 15,
   "metadata": {},
   "outputs": [
    {
     "name": "stdout",
     "output_type": "stream",
     "text": [
      "Equivalent C02 (t):  80.10032998019898\n"
     ]
    }
   ],
   "source": [
    "ratio_elec_C_fr = 0.112 # en kgCO2/kWh\n",
    "\n",
    "print(\"Equivalent C02 (t): \", elec_jour_per_p_kWh*effectif*n_jours_ouvre*ratio_elec_C_fr/10**3)"
   ]
  },
  {
   "cell_type": "code",
   "execution_count": null,
   "metadata": {},
   "outputs": [],
   "source": []
  }
 ],
 "metadata": {
  "kernelspec": {
   "display_name": "Python 3",
   "language": "python",
   "name": "python3"
  },
  "language_info": {
   "codemirror_mode": {
    "name": "ipython",
    "version": 3
   },
   "file_extension": ".py",
   "mimetype": "text/x-python",
   "name": "python",
   "nbconvert_exporter": "python",
   "pygments_lexer": "ipython3",
   "version": "3.8.5"
  }
 },
 "nbformat": 4,
 "nbformat_minor": 4
}
