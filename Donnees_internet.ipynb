{
 "cells": [
  {
   "cell_type": "markdown",
   "metadata": {},
   "source": [
    "# Calcul flux données internet"
   ]
  },
  {
   "cell_type": "markdown",
   "metadata": {},
   "source": [
    "On a, par jour, un flux moyen entrant et un flux moyen sortant. Je ne sais pas à partir de quoi cette moyenne est obtenue (1 échantillonage d'une heure, une moyenne sur toute la journée, etc.)"
   ]
  },
  {
   "cell_type": "code",
   "execution_count": 10,
   "metadata": {},
   "outputs": [
    {
     "data": {
      "text/html": [
       "<div>\n",
       "<style scoped>\n",
       "    .dataframe tbody tr th:only-of-type {\n",
       "        vertical-align: middle;\n",
       "    }\n",
       "\n",
       "    .dataframe tbody tr th {\n",
       "        vertical-align: top;\n",
       "    }\n",
       "\n",
       "    .dataframe thead th {\n",
       "        text-align: right;\n",
       "    }\n",
       "</style>\n",
       "<table border=\"1\" class=\"dataframe\">\n",
       "  <thead>\n",
       "    <tr style=\"text-align: right;\">\n",
       "      <th></th>\n",
       "      <th>Hostname</th>\n",
       "      <th>Target</th>\n",
       "      <th>Sample Date YMD</th>\n",
       "      <th>Sample Time HHMM</th>\n",
       "      <th>Count in seconds</th>\n",
       "      <th>Incoming traffic in bps (avg day)</th>\n",
       "      <th>Outgoing traffic in bps (avg day)</th>\n",
       "      <th>Peak inbound traffic in bps</th>\n",
       "      <th>Peak outbound traffic in bps</th>\n",
       "    </tr>\n",
       "  </thead>\n",
       "  <tbody>\n",
       "    <tr>\n",
       "      <th>0</th>\n",
       "      <td>sites</td>\n",
       "      <td>GigabitEthernet1/0</td>\n",
       "      <td>11/23/2020</td>\n",
       "      <td>1:00</td>\n",
       "      <td>1606089600</td>\n",
       "      <td>55192.0</td>\n",
       "      <td>117222.6</td>\n",
       "      <td>601766.4</td>\n",
       "      <td>2346130.7</td>\n",
       "    </tr>\n",
       "    <tr>\n",
       "      <th>1</th>\n",
       "      <td>sites</td>\n",
       "      <td>GigabitEthernet1/0</td>\n",
       "      <td>11/24/2020</td>\n",
       "      <td>1:00</td>\n",
       "      <td>1606176000</td>\n",
       "      <td>5351484.2</td>\n",
       "      <td>1745443.2</td>\n",
       "      <td>46186475.3</td>\n",
       "      <td>21301345.1</td>\n",
       "    </tr>\n",
       "    <tr>\n",
       "      <th>2</th>\n",
       "      <td>sites</td>\n",
       "      <td>GigabitEthernet1/0</td>\n",
       "      <td>11/25/2020</td>\n",
       "      <td>1:00</td>\n",
       "      <td>1606262400</td>\n",
       "      <td>7087875.1</td>\n",
       "      <td>1063973.7</td>\n",
       "      <td>77554496.2</td>\n",
       "      <td>14717147.1</td>\n",
       "    </tr>\n",
       "    <tr>\n",
       "      <th>3</th>\n",
       "      <td>sites</td>\n",
       "      <td>GigabitEthernet1/0</td>\n",
       "      <td>11/26/2020</td>\n",
       "      <td>1:00</td>\n",
       "      <td>1606348800</td>\n",
       "      <td>5238180.8</td>\n",
       "      <td>2139920.4</td>\n",
       "      <td>72566815.4</td>\n",
       "      <td>32529461.6</td>\n",
       "    </tr>\n",
       "    <tr>\n",
       "      <th>4</th>\n",
       "      <td>sites</td>\n",
       "      <td>GigabitEthernet1/0</td>\n",
       "      <td>11/27/2020</td>\n",
       "      <td>1:00</td>\n",
       "      <td>1606435200</td>\n",
       "      <td>6030543.9</td>\n",
       "      <td>5191834.1</td>\n",
       "      <td>35059495.4</td>\n",
       "      <td>70644815.9</td>\n",
       "    </tr>\n",
       "    <tr>\n",
       "      <th>...</th>\n",
       "      <td>...</td>\n",
       "      <td>...</td>\n",
       "      <td>...</td>\n",
       "      <td>...</td>\n",
       "      <td>...</td>\n",
       "      <td>...</td>\n",
       "      <td>...</td>\n",
       "      <td>...</td>\n",
       "      <td>...</td>\n",
       "    </tr>\n",
       "    <tr>\n",
       "      <th>360</th>\n",
       "      <td>sites</td>\n",
       "      <td>GigabitEthernet1/0</td>\n",
       "      <td>11/18/2021</td>\n",
       "      <td>1:00</td>\n",
       "      <td>1637193600</td>\n",
       "      <td>28440854.6</td>\n",
       "      <td>9821430.1</td>\n",
       "      <td>175365040.4</td>\n",
       "      <td>159933589.3</td>\n",
       "    </tr>\n",
       "    <tr>\n",
       "      <th>361</th>\n",
       "      <td>sites</td>\n",
       "      <td>GigabitEthernet1/0</td>\n",
       "      <td>11/19/2021</td>\n",
       "      <td>1:00</td>\n",
       "      <td>1637280000</td>\n",
       "      <td>27491672.0</td>\n",
       "      <td>6812135.1</td>\n",
       "      <td>175481504.2</td>\n",
       "      <td>88729496.2</td>\n",
       "    </tr>\n",
       "    <tr>\n",
       "      <th>362</th>\n",
       "      <td>sites</td>\n",
       "      <td>GigabitEthernet1/0</td>\n",
       "      <td>11/20/2021</td>\n",
       "      <td>1:00</td>\n",
       "      <td>1637366400</td>\n",
       "      <td>22971880.9</td>\n",
       "      <td>7349417.9</td>\n",
       "      <td>175626957.8</td>\n",
       "      <td>37371580.7</td>\n",
       "    </tr>\n",
       "    <tr>\n",
       "      <th>363</th>\n",
       "      <td>sites</td>\n",
       "      <td>GigabitEthernet1/0</td>\n",
       "      <td>11/21/2021</td>\n",
       "      <td>1:00</td>\n",
       "      <td>1637452800</td>\n",
       "      <td>311307.2</td>\n",
       "      <td>1581631.7</td>\n",
       "      <td>6464377.3</td>\n",
       "      <td>100715441.7</td>\n",
       "    </tr>\n",
       "    <tr>\n",
       "      <th>364</th>\n",
       "      <td>sites</td>\n",
       "      <td>GigabitEthernet1/0</td>\n",
       "      <td>11/22/2021</td>\n",
       "      <td>1:00</td>\n",
       "      <td>1637539200</td>\n",
       "      <td>121206.4</td>\n",
       "      <td>62317.4</td>\n",
       "      <td>1257204.4</td>\n",
       "      <td>672556.4</td>\n",
       "    </tr>\n",
       "  </tbody>\n",
       "</table>\n",
       "<p>365 rows × 9 columns</p>\n",
       "</div>"
      ],
      "text/plain": [
       "    Hostname              Target Sample Date YMD Sample Time HHMM  \\\n",
       "0      sites  GigabitEthernet1/0      11/23/2020             1:00   \n",
       "1      sites  GigabitEthernet1/0      11/24/2020             1:00   \n",
       "2      sites  GigabitEthernet1/0      11/25/2020             1:00   \n",
       "3      sites  GigabitEthernet1/0      11/26/2020             1:00   \n",
       "4      sites  GigabitEthernet1/0      11/27/2020             1:00   \n",
       "..       ...                 ...             ...              ...   \n",
       "360    sites  GigabitEthernet1/0      11/18/2021             1:00   \n",
       "361    sites  GigabitEthernet1/0      11/19/2021             1:00   \n",
       "362    sites  GigabitEthernet1/0      11/20/2021             1:00   \n",
       "363    sites  GigabitEthernet1/0      11/21/2021             1:00   \n",
       "364    sites  GigabitEthernet1/0      11/22/2021             1:00   \n",
       "\n",
       "     Count in seconds  Incoming traffic in bps (avg day)  \\\n",
       "0          1606089600                            55192.0   \n",
       "1          1606176000                          5351484.2   \n",
       "2          1606262400                          7087875.1   \n",
       "3          1606348800                          5238180.8   \n",
       "4          1606435200                          6030543.9   \n",
       "..                ...                                ...   \n",
       "360        1637193600                         28440854.6   \n",
       "361        1637280000                         27491672.0   \n",
       "362        1637366400                         22971880.9   \n",
       "363        1637452800                           311307.2   \n",
       "364        1637539200                           121206.4   \n",
       "\n",
       "     Outgoing traffic in bps (avg day)  Peak inbound traffic in bps  \\\n",
       "0                             117222.6                     601766.4   \n",
       "1                            1745443.2                   46186475.3   \n",
       "2                            1063973.7                   77554496.2   \n",
       "3                            2139920.4                   72566815.4   \n",
       "4                            5191834.1                   35059495.4   \n",
       "..                                 ...                          ...   \n",
       "360                          9821430.1                  175365040.4   \n",
       "361                          6812135.1                  175481504.2   \n",
       "362                          7349417.9                  175626957.8   \n",
       "363                          1581631.7                    6464377.3   \n",
       "364                            62317.4                    1257204.4   \n",
       "\n",
       "     Peak outbound traffic in bps  \n",
       "0                       2346130.7  \n",
       "1                      21301345.1  \n",
       "2                      14717147.1  \n",
       "3                      32529461.6  \n",
       "4                      70644815.9  \n",
       "..                            ...  \n",
       "360                   159933589.3  \n",
       "361                    88729496.2  \n",
       "362                    37371580.7  \n",
       "363                   100715441.7  \n",
       "364                      672556.4  \n",
       "\n",
       "[365 rows x 9 columns]"
      ]
     },
     "execution_count": 10,
     "metadata": {},
     "output_type": "execute_result"
    }
   ],
   "source": [
    "import pandas as pd\n",
    "import math\n",
    "\n",
    "traffic_df = pd.read_csv(\"traffic-donnees-sete.csv\")\n",
    "traffic_df"
   ]
  },
  {
   "cell_type": "markdown",
   "metadata": {},
   "source": [
    "On passe du flux de données (en bps) à une quantité de données, sur l'ensemble de la journée.\n",
    "12h ou 24h ?\n",
    "\n",
    "## Flux sortant"
   ]
  },
  {
   "cell_type": "code",
   "execution_count": 23,
   "metadata": {},
   "outputs": [],
   "source": [
    "n_hours_in_day = 12\n",
    "traffic_df['data_out_Gb'] = (3600 * n_hours_in_day * traffic_df['Outgoing traffic in bps (avg day)'] / 10**9)"
   ]
  },
  {
   "cell_type": "code",
   "execution_count": 24,
   "metadata": {},
   "outputs": [
    {
     "data": {
      "text/plain": [
       "218.28438043397264"
      ]
     },
     "execution_count": 24,
     "metadata": {},
     "output_type": "execute_result"
    }
   ],
   "source": [
    "traffic_df['data_out_Gb'].mean()"
   ]
  },
  {
   "cell_type": "markdown",
   "metadata": {},
   "source": [
    "## Flux entrant"
   ]
  },
  {
   "cell_type": "code",
   "execution_count": 25,
   "metadata": {},
   "outputs": [],
   "source": [
    "traffic_df['data_in_Gb'] = (3600 * n_hours_in_day * traffic_df['Incoming traffic in bps (avg day)'] / 10**9)"
   ]
  },
  {
   "cell_type": "code",
   "execution_count": 26,
   "metadata": {},
   "outputs": [
    {
     "data": {
      "text/plain": [
       "331.36398191737004"
      ]
     },
     "execution_count": 26,
     "metadata": {},
     "output_type": "execute_result"
    }
   ],
   "source": [
    "traffic_df['data_in_Gb'].mean()"
   ]
  },
  {
   "cell_type": "markdown",
   "metadata": {},
   "source": [
    "# Données manquantes\n",
    "\n",
    "Il nous faut les données de présence sur site, pour déduire une consommation individuelle, qui permettra de calculer le bilan de 2019.\n",
    "Il nous faut aussi savoir exactement comment est calculé le flux moyen (pendant présence sur site, ou la nuit est comptée aussi)"
   ]
  },
  {
   "cell_type": "code",
   "execution_count": null,
   "metadata": {},
   "outputs": [],
   "source": []
  }
 ],
 "metadata": {
  "kernelspec": {
   "display_name": "Python 3",
   "language": "python",
   "name": "python3"
  },
  "language_info": {
   "codemirror_mode": {
    "name": "ipython",
    "version": 3
   },
   "file_extension": ".py",
   "mimetype": "text/x-python",
   "name": "python",
   "nbconvert_exporter": "python",
   "pygments_lexer": "ipython3",
   "version": "3.8.5"
  }
 },
 "nbformat": 4,
 "nbformat_minor": 4
}
